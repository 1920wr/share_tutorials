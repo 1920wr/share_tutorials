{
 "cells": [
  {
   "cell_type": "markdown",
   "metadata": {},
   "source": [
    "# FORCE 11\n",
    "## Exploring the data in SHARE\n",
    "\n",
    "Introduction to SHARE Queries and the current state of SHARE Data"
   ]
  },
  {
   "cell_type": "markdown",
   "metadata": {},
   "source": [
    "### Names are difficult to disambiguate\n",
    "\n",
    "SHARE attempts to break names into Given, Family, and Additional pieces. The [SHARE person schema](https://github.com/CenterForOpenScience/SHARE-Schema/blob/master/share.yaml#L42) also includes spots for ```email```, ```affiliation```, and any links to other identifiers, such as ORCIDS, in the ```sameAs``` field.\n",
    "\n",
    "Let's do a query to showcase different names appearing in the 5 most recent documents in SHARE"
   ]
  },
  {
   "cell_type": "code",
   "execution_count": null,
   "metadata": {
    "collapsed": false
   },
   "outputs": [],
   "source": [
    "import furl\n",
    "import requests\n",
    "\n",
    "\n",
    "def query_share(size, query=None):\n",
    "    SHARE_API = 'https://osf.io/api/v1/share/search/'\n",
    "    search_url = furl.furl(SHARE_API)\n",
    "    search_url.args['size'] = size\n",
    "    search_url.args['sort'] = 'providerUpdatedDateTime'\n",
    "    if query:\n",
    "        search_url.args['q'] = query\n",
    "    return requests.get(search_url.url).json()\n",
    "\n",
    "def print_title_contributors(results):\n",
    "    for result in results['results']:\n",
    "        print(result['title'].encode('utf-8'))\n",
    "        print('~~~~~~~~~')\n",
    "        for name in result['contributors']:\n",
    "            print(name['name'])\n",
    "        print('-------------------------------------------')\n",
    "        \n",
    "results =  query_share(5)\n",
    "print_title_contributors(results)"
   ]
  },
  {
   "cell_type": "markdown",
   "metadata": {},
   "source": [
    "#### Names don't always show up in the same format\n",
    "\n",
    "Let's choose a name, remove the middle initial, and see if we get a result"
   ]
  },
  {
   "cell_type": "code",
   "execution_count": null,
   "metadata": {
    "collapsed": false
   },
   "outputs": [],
   "source": [
    "from sharepa import ShareSearch\n",
    "\n",
    "def search_a_name(name):\n",
    "    name_search = ShareSearch()\n",
    "    name_search = name_search.query(\n",
    "        {\n",
    "            \"bool\": {\n",
    "                \"should\": [\n",
    "                    {\n",
    "                        \"match\": {\n",
    "                            \"contributors.name\": {\n",
    "                                \"query\": name, \n",
    "                                \"operator\": \"and\",\n",
    "                                \"type\" : \"phrase\"\n",
    "                            }\n",
    "                        }\n",
    "                    }\n",
    "                ]\n",
    "            }\n",
    "        }\n",
    "    )\n",
    "    \n",
    "    return name_search\n",
    "\n",
    "def print_name_results(name):\n",
    "    search = search_a_name(name)\n",
    "    if search.count() == 1:\n",
    "        print('There is {} document with the contributor {}'.format(  search.count(), name))\n",
    "    else:\n",
    "        print('There are {} documents with the contributor {}'.format(search.count(), name))\n",
    "\n",
    "print_name_results('Martone, Maryann E.')\n",
    "print_name_results('Martone, Maryann')\n",
    "print_name_results('Maryann Martone')\n",
    "print_name_results('Maryann E Martone')"
   ]
  },
  {
   "cell_type": "markdown",
   "metadata": {},
   "source": [
    "## Identifiers are Difficult to Identify\n",
    "\n",
    "Here's a query that will search for all documents with contributors that have at least one orcid"
   ]
  },
  {
   "cell_type": "code",
   "execution_count": null,
   "metadata": {
    "collapsed": false
   },
   "outputs": [],
   "source": [
    "recent_results = query_share(3, 'contributors.sameAs:*orcid*')\n",
    "\n",
    "print('There are {} results'.format(recent_results['count']))\n",
    "print('----------')\n",
    "for result in recent_results['results']:\n",
    "    print(result['title'].encode('utf-8'))\n",
    "    print(result['shareProperties']['source'])\n",
    "    print('~~~~~~~~~')\n",
    "    for name in result['contributors']:\n",
    "        print('{} - {}'.format(name['name'].encode('utf-8'), name['sameAs']))\n",
    "    print('-------------------------------------------')"
   ]
  },
  {
   "cell_type": "markdown",
   "metadata": {},
   "source": [
    "Not every contributor on each document has an orcid suppplied.\n",
    "\n",
    "### Try the same for another form of identifier - an email address"
   ]
  },
  {
   "cell_type": "code",
   "execution_count": null,
   "metadata": {
    "collapsed": false
   },
   "outputs": [],
   "source": [
    "# Contributors with Email Addresses\n",
    "\n",
    "results = query_share(3, 'contributors.email:*')\n",
    "\n",
    "print('There are {} results'.format(results['count']))\n",
    "print('----------')\n",
    "for result in results['results']:\n",
    "    print(result['title'].encode('utf-8'))\n",
    "    print(result['shareProperties']['source'])\n",
    "    print('~~~~~~~~~')\n",
    "    for name in result['contributors']:\n",
    "            print('{} - {}'.format(name['name'].encode('utf-8'), name.get('email')))\n",
    "    print('-------------------------------------------')\n"
   ]
  },
  {
   "cell_type": "markdown",
   "metadata": {},
   "source": [
    "## No shared taxonomy for subjects or explicit document types - manuscripts, data, figures, etc.\n",
    "\n",
    "One of our developers is working on this right now!\n",
    "\n",
    "The DC field \"Type\" is an excellent place to start - however, there is a lot of variation for what is allowed inside of this field. \n",
    "\n",
    "\"Element Description: The nature or genre of the content of the resource. Type includes terms describing general categories, functions, genres, or aggregation levels for content. Recommended best practice is to select a value from a controlled vocabulary (for example, the DCMIType vocabulary ).\""
   ]
  },
  {
   "cell_type": "code",
   "execution_count": null,
   "metadata": {
    "collapsed": false
   },
   "outputs": [],
   "source": [
    "# Type\n",
    "\n",
    "import pandas as pd\n",
    "from sharepa import ShareSearch, basic_search\n",
    "from sharepa.helpers import pretty_print\n",
    "\n",
    "type_search = ShareSearch()\n",
    "total_documents = basic_search.count()\n",
    "\n",
    "type_search.aggs.bucket(\n",
    "    'typeTermFilter',  # Every aggregation needs a name\n",
    "    'terms',  # There are many kinds of aggregations\n",
    "    field='otherProperties.properties.type',  # We store the source of a document in its type, so this will aggregate by source\n",
    "    min_doc_count=1,\n",
    "    exclude= \"of|and|or\",\n",
    "    size=50,\n",
    ")\n",
    "\n",
    "type_results_executed = type_search.execute()\n",
    "\n",
    "type_results = type_results_executed.aggregations.typeTermFilter.to_dict()['buckets']\n",
    "\n",
    "type_dataframe = pd.DataFrame(type_results)\n",
    "type_dataframe['percent'] = (type_dataframe['doc_count'] / total_documents)*100\n",
    "type_dataframe"
   ]
  },
  {
   "cell_type": "markdown",
   "metadata": {},
   "source": [
    "## Documents with Descriptions\n",
    "\n",
    "Are abstracts copyrightable?\n",
    "\n",
    "Abstracts, summaries and descriptions are not always made available. "
   ]
  },
  {
   "cell_type": "code",
   "execution_count": null,
   "metadata": {
    "collapsed": false
   },
   "outputs": [],
   "source": [
    "# How many documents have descriptions?\n",
    "from __future__ import division\n",
    "\n",
    "results = query_share(10, 'description:*')\n",
    "\n",
    "print('There are {} results'.format(results['count']))\n",
    "print('{}/{} or {}% of results have descriptions'.format(results['count'], total_documents, (results['count']/total_documents)*100))"
   ]
  }
 ],
 "metadata": {
  "kernelspec": {
   "display_name": "Python 2",
   "language": "python",
   "name": "python2"
  },
  "language_info": {
   "codemirror_mode": {
    "name": "ipython",
    "version": 2
   },
   "file_extension": ".py",
   "mimetype": "text/x-python",
   "name": "python",
   "nbconvert_exporter": "python",
   "pygments_lexer": "ipython2",
   "version": "2.7.11"
  }
 },
 "nbformat": 4,
 "nbformat_minor": 0
}
