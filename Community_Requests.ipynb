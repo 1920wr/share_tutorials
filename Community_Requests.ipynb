{
 "cells": [
  {
   "cell_type": "markdown",
   "metadata": {},
   "source": [
    "# SHARE Query Requests from the Community\n",
    "\n",
    "Here's where we can keep track of code for common things that members of the SHARE community might like to know!\n",
    "\n",
    "## Setup"
   ]
  },
  {
   "cell_type": "code",
   "execution_count": 1,
   "metadata": {
    "collapsed": true
   },
   "outputs": [],
   "source": [
    "import json\n",
    "import requests\n",
    "\n",
    "SHARE_SEARCH_API = 'https://osf.io/api/v1/share/search/'\n",
    "ALL_PROVIDER_INFO = requests.get('https://osf.io/api/v1/share/providers/').json()['providerMap']\n",
    "\n",
    "def query_share(url, query):\n",
    "    headers = {'Content-Type': 'application/json'}\n",
    "    data = json.dumps(query)\n",
    "    return requests.post(url, headers=headers, data=data, verify=False).json()\n",
    "\n",
    "def get_longname_for_shortname(shortname):\n",
    "    for source in ALL_PROVIDER_INFO.keys():\n",
    "        if source == shortname:\n",
    "            return ALL_PROVIDER_INFO[source]['long_name']\n",
    "    "
   ]
  },
  {
   "cell_type": "markdown",
   "metadata": {},
   "source": [
    "## Queries"
   ]
  },
  {
   "cell_type": "code",
   "execution_count": null,
   "metadata": {
    "collapsed": false
   },
   "outputs": [],
   "source": [
    "# What's the earliest and latest document from each source?\n",
    "\n",
    "import pandas as pd\n",
    "\n",
    "date_stats_agg = {\n",
    "    \"aggregations\": {\n",
    "        \"sources\": {\n",
    "            \"terms\": {\"field\": \"_type\", \"size\": 0},\n",
    "            \"aggregations\": {\n",
    "                \"source_stats\": {\n",
    "                    \"stats\": {\"field\": \"providerUpdatedDateTime\"}\n",
    "                }\n",
    "            }\n",
    "        }\n",
    "    }\n",
    "}\n",
    "\n",
    "date_results = query_share(SHARE_SEARCH_API, date_stats_agg)['aggregations']['sources']['buckets']\n",
    "\n",
    "date_results_df = pd.DataFrame()\n",
    "date_results_df['source_shortname'] = [result['key'].encode('utf-8') for result in date_results]\n",
    "date_results_df['source_longname'] = [get_longname_for_shortname(name).encode('utf-8') for name in date_results_df['source_shortname']]\n",
    "date_results_df['earliest_date'] = [result['source_stats']['min_as_string'] for result in date_results]\n",
    "date_results_df['latest_date'] = [result['source_stats']['max_as_string'] for result in date_results]\n",
    "date_results_df"
   ]
  },
  {
   "cell_type": "code",
   "execution_count": null,
   "metadata": {
    "collapsed": false
   },
   "outputs": [],
   "source": [
    "# Uncomment the following lines if running locally - will save to file formats\n",
    "\n",
    "# date_results_df.to_csv('SHARE_Min_Max_dates.csv')\n",
    "# date_results_df.to_excel('SHARE_Min_Max_dates.xlsx')"
   ]
  },
  {
   "cell_type": "markdown",
   "metadata": {
    "collapsed": true
   },
   "source": [
    "## Lucene Search and NOT Queries\n",
    "\n",
    "A user wanted to know how to query for one term but exclude another"
   ]
  },
  {
   "cell_type": "code",
   "execution_count": null,
   "metadata": {
    "collapsed": true
   },
   "outputs": [],
   "source": [
    "query = '?q=pedigree NOT child'"
   ]
  },
  {
   "cell_type": "code",
   "execution_count": null,
   "metadata": {
    "collapsed": false
   },
   "outputs": [],
   "source": [
    "results = requests.get(SHARE_SEARCH_API + query).json()\n",
    "results"
   ]
  },
  {
   "cell_type": "markdown",
   "metadata": {},
   "source": [
    "## Querying by Document Type\n",
    "\n",
    "Currently, document type is not curated by SHARE. However, we do collected many sources that are using the OAI-PMH metadata protocol, which includes dc:type. You can search that field in SHARE for now, until the harvesters collect and curate document type."
   ]
  },
  {
   "cell_type": "code",
   "execution_count": null,
   "metadata": {
    "collapsed": false
   },
   "outputs": [],
   "source": [
    "query = '?q=otherProperties.properties.type:article'\n"
   ]
  },
  {
   "cell_type": "code",
   "execution_count": null,
   "metadata": {
    "collapsed": false
   },
   "outputs": [],
   "source": [
    "results = requests.get(SHARE_SEARCH_API + query).json()\n",
    "\n",
    "for result in results['results']:\n",
    "    for prop in result['otherProperties']:\n",
    "        if prop['name'] == 'type':\n",
    "            print(prop)\n",
    "    print(result['title'])\n",
    "    print(result['uris']['canonicalUri'])\n",
    "    "
   ]
  },
  {
   "cell_type": "markdown",
   "metadata": {
    "collapsed": true
   },
   "source": [
    "Here is an analysis of the top terms found in SHARE's collected dc:type field"
   ]
  },
  {
   "cell_type": "code",
   "execution_count": null,
   "metadata": {
    "collapsed": true
   },
   "outputs": [],
   "source": [
    "import pandas as pd\n",
    "from sharepa import ShareSearch, basic_search\n",
    "from sharepa.helpers import pretty_print\n",
    "\n",
    "type_search = ShareSearch()\n",
    "total_documents = basic_search.count()\n",
    "\n",
    "type_search.aggs.bucket(\n",
    "    'typeTermFilter',  # Every aggregation needs a name\n",
    "    'terms',  # There are many kinds of aggregations\n",
    "    field='otherProperties.properties.type',\n",
    "    exclude= \"of|and|or\",\n",
    "    size=50,\n",
    ")\n",
    "\n",
    "type_results_executed = type_search.execute()\n",
    "\n",
    "type_results = type_results_executed.aggregations.typeTermFilter.to_dict()['buckets']\n",
    "\n",
    "type_dataframe = pd.DataFrame(type_results)\n",
    "type_dataframe['percent'] = (type_dataframe['doc_count'] / total_documents)*100"
   ]
  },
  {
   "cell_type": "code",
   "execution_count": null,
   "metadata": {
    "collapsed": false
   },
   "outputs": [],
   "source": [
    "type_dataframe"
   ]
  },
  {
   "cell_type": "markdown",
   "metadata": {
    "collapsed": true
   },
   "source": [
    "## Query by Exact Phrase\n",
    "\n",
    "Question -- Is there a way to search SHARE for a specific phrase? For example, information literacy, information AND literacy, and \"information literacy\" give results with both terms, but not necessarily as the phrase \"information literacy.\" Information and literacy can be in different parts of the record."
   ]
  },
  {
   "cell_type": "code",
   "execution_count": 7,
   "metadata": {
    "collapsed": false
   },
   "outputs": [
    {
     "name": "stdout",
     "output_type": "stream",
     "text": [
      "Information Literacy -- from uiucideals -- http://hdl.handle.net/2142/41497\n",
      "Information Literacy Inventory -- from crossref -- http://dx.doi.org/10.1037/t32581-000\n",
      "Information Literacy in Schools -- from crossref -- http://dx.doi.org/10.1201/b19843-8\n",
      "Information Literacy Doll -- from datacite -- http://dx.doi.org/10.6084/M9.FIGSHARE.1012828.V1\n",
      "MOBILE INFORMATION LITERACY CURRICULUM -- from uwashington -- http://hdl.handle.net/1773/34803\n",
      "Information literacy at work -- from crossref -- http://dx.doi.org/10.1108/el-04-2014-0063\n"
     ]
    },
    {
     "name": "stderr",
     "output_type": "stream",
     "text": [
      "/Users/erin/.virtualenvs/tuts/lib/python2.7/site-packages/requests/packages/urllib3/connectionpool.py:791: InsecureRequestWarning: Unverified HTTPS request is being made. Adding certificate verification is strongly advised. See: https://urllib3.readthedocs.org/en/latest/security.html\n",
      "  InsecureRequestWarning)\n"
     ]
    },
    {
     "ename": "UnicodeEncodeError",
     "evalue": "'ascii' codec can't encode character u'\\u201c' in position 0: ordinal not in range(128)",
     "output_type": "error",
     "traceback": [
      "\u001b[0;31m---------------------------------------------------------------------------\u001b[0m",
      "\u001b[0;31mUnicodeEncodeError\u001b[0m                        Traceback (most recent call last)",
      "\u001b[0;32m<ipython-input-7-755726a2990e>\u001b[0m in \u001b[0;36m<module>\u001b[0;34m()\u001b[0m\n\u001b[1;32m     14\u001b[0m             \u001b[0mresult\u001b[0m\u001b[0;34m[\u001b[0m\u001b[0;34m'title'\u001b[0m\u001b[0;34m]\u001b[0m\u001b[0;34m,\u001b[0m\u001b[0;34m\u001b[0m\u001b[0m\n\u001b[1;32m     15\u001b[0m             \u001b[0mresult\u001b[0m\u001b[0;34m[\u001b[0m\u001b[0;34m'shareProperties'\u001b[0m\u001b[0;34m]\u001b[0m\u001b[0;34m[\u001b[0m\u001b[0;34m'source'\u001b[0m\u001b[0;34m]\u001b[0m\u001b[0;34m,\u001b[0m\u001b[0;34m\u001b[0m\u001b[0m\n\u001b[0;32m---> 16\u001b[0;31m             \u001b[0mresult\u001b[0m\u001b[0;34m[\u001b[0m\u001b[0;34m'uris'\u001b[0m\u001b[0;34m]\u001b[0m\u001b[0;34m[\u001b[0m\u001b[0;34m'canonicalUri'\u001b[0m\u001b[0;34m]\u001b[0m\u001b[0;34m\u001b[0m\u001b[0m\n\u001b[0m\u001b[1;32m     17\u001b[0m         )\n\u001b[1;32m     18\u001b[0m     )\n",
      "\u001b[0;31mUnicodeEncodeError\u001b[0m: 'ascii' codec can't encode character u'\\u201c' in position 0: ordinal not in range(128)"
     ]
    }
   ],
   "source": [
    "phrase_query = {\n",
    "    \"query\": {\n",
    "        \"match_phrase\" : {\n",
    "            \"title\" : \"information literacy\"\n",
    "        }\n",
    "    }\n",
    "}\n",
    "\n",
    "results = query_share(SHARE_SEARCH_API, phrase_query)\n",
    "\n",
    "for result in results['results']:\n",
    "    print(\n",
    "        '{} -- from {} -- {}'.format(\n",
    "            result['title'].encode('utf-8'),\n",
    "            result['shareProperties']['source'].encode('utf-8'),\n",
    "            result['uris']['canonicalUri']\n",
    "        )\n",
    "    )\n"
   ]
  },
  {
   "cell_type": "code",
   "execution_count": null,
   "metadata": {
    "collapsed": false
   },
   "outputs": [],
   "source": [
    "\n",
    "# Using sharepa\n",
    "\n",
    "phrase_search = ShareSearch()\n",
    "\n",
    "phrase_search = phrase_search.query(\n",
    "    'match_phrase',\n",
    "    title=\"information literacy\"\n",
    ")\n",
    "\n",
    "results = phrase_search.execute()\n",
    "\n",
    "for result in results:\n",
    "    print(\n",
    "        '{} -- from {} -- {}'.format(\n",
    "            result.title.encode('utf-8'),\n",
    "            result.shareProperties.source.encode('utf-8'),\n",
    "            result.uris.canonicalUri\n",
    "        )\n",
    "    )"
   ]
  }
 ],
 "metadata": {
  "kernelspec": {
   "display_name": "Python 2",
   "language": "python",
   "name": "python2"
  },
  "language_info": {
   "codemirror_mode": {
    "name": "ipython",
    "version": 2
   },
   "file_extension": ".py",
   "mimetype": "text/x-python",
   "name": "python",
   "nbconvert_exporter": "python",
   "pygments_lexer": "ipython2",
   "version": "2.7.11"
  }
 },
 "nbformat": 4,
 "nbformat_minor": 0
}
