{
 "cells": [
  {
   "cell_type": "markdown",
   "metadata": {},
   "source": [
    "# Complex Queries and Basic Visualization\n",
    "\n",
    "This notebook will cover how to make more complex queries, using both basic HTTP requests and using sharepa - the SHARE parsing and analysis library.\n",
    "\n",
    "We'll also go over aggregations, or queries that will return summary statistics about the whole dataset. We'll use those aggregations to make some simple data visualizations using pandas and matplotlib."
   ]
  },
  {
   "cell_type": "markdown",
   "metadata": {},
   "source": [
    "## Setup\n",
    "\n",
    "Here we'll define a helper function and specify the SHARE API url that we'll use for querying."
   ]
  },
  {
   "cell_type": "code",
   "execution_count": 1,
   "metadata": {
    "collapsed": true
   },
   "outputs": [],
   "source": [
    "import json\n",
    "import requests\n",
    "\n",
    "OSF_APP_URL = 'https://osf.io/api/v1/share/search/'\n",
    "\n",
    "def query_share(url, query):\n",
    "    # A helper function that will use the requests library,\n",
    "    # pass along the correct headers,\n",
    "    # and make the query we want\n",
    "    headers = {'Content-Type': 'application/json'}\n",
    "    data = json.dumps(query)\n",
    "    return requests.post(url, headers=headers, data=data, verify=False).json()"
   ]
  },
  {
   "cell_type": "markdown",
   "metadata": {},
   "source": [
    "## Complex Queries\n",
    "\n",
    "### Pagination\n",
    "\n",
    "One request to the SHARE API will return just 10 results by default. To get more results, you can use the \"size\" parameter in your request, or paginate through the results you get back."
   ]
  },
  {
   "cell_type": "code",
   "execution_count": 2,
   "metadata": {
    "collapsed": false
   },
   "outputs": [
    {
     "name": "stdout",
     "output_type": "stream",
     "text": [
      "There are 976 total results and 10 results on this page\n",
      "---------------\n",
      "1. Herpetology Collection - Royal Ontario Museum\n",
      "2. Herpetology Collection - Royal Ontario Museum\n",
      "3. On a collection of reptiles and frogs chiefly from Singapore.\n",
      "4. Effects of nonlethal predation and competition on life-history characteristics and behavior of larval Oregon spotted frog (Rana pretiosa) and larval red-legged frog (Rana aurora)\n",
      "5. Differences in foraging habits during the day and night time in the green frog, Rana clamitans.\n",
      "6. Evaluating group housing strategies for the ex-situ conservation of harlequin frogs (Atelopus spp.) using behavioral and physiological indicators\n",
      "7. <p>Total annual biomass (g) of recaptured breeding wood frogs at 11 vernal pools in east-central Maine, USA.</p>\n",
      "8. Correction: A Novel Reproductive Mode in Frogs: A New Species of Fanged Frog with Internal Fertilization and Birth of Tadpoles\n",
      "9. Physiologische studien über die Hemmungsmechanismen für die reflexthätigkeit des Rückenmarks im gehirne des Frosches / \n",
      "10. Uninfected control frogs and frogs infected for 6 days with FV3 were treated with BrdU 48 hrs before the assay\n"
     ]
    },
    {
     "name": "stderr",
     "output_type": "stream",
     "text": [
      "/Users/erin/.virtualenvs/tuts/lib/python2.7/site-packages/requests/packages/urllib3/connectionpool.py:791: InsecureRequestWarning: Unverified HTTPS request is being made. Adding certificate verification is strongly advised. See: https://urllib3.readthedocs.org/en/latest/security.html\n",
      "  InsecureRequestWarning)\n"
     ]
    }
   ],
   "source": [
    "basic_query = {\n",
    "    \"query\": {\n",
    "        \"query_string\": {\n",
    "            \"query\": \"frogs\"\n",
    "        }\n",
    "    }\n",
    "}\n",
    "\n",
    "query_results = query_share(OSF_APP_URL, basic_query)\n",
    "\n",
    "print(\n",
    "    'There are {} total results and {} results on this page'.format(\n",
    "        query_results['count'],\n",
    "        len(query_results['results'])\n",
    "    )\n",
    ")\n",
    "\n",
    "print('---------------')\n",
    "for result in enumerate(query_results['results']):\n",
    "    print('{}. {}'.format(result[0] + 1, result[1]['title'].encode('utf-8')))"
   ]
  },
  {
   "cell_type": "markdown",
   "metadata": {},
   "source": [
    "We can get more results either by changing the number of results returned, or by paginating through the results.\n",
    "\n",
    "First, we'll return 20 results by specifying the size in our query."
   ]
  },
  {
   "cell_type": "code",
   "execution_count": 3,
   "metadata": {
    "collapsed": false
   },
   "outputs": [
    {
     "name": "stderr",
     "output_type": "stream",
     "text": [
      "/Users/erin/.virtualenvs/tuts/lib/python2.7/site-packages/requests/packages/urllib3/connectionpool.py:791: InsecureRequestWarning: Unverified HTTPS request is being made. Adding certificate verification is strongly advised. See: https://urllib3.readthedocs.org/en/latest/security.html\n",
      "  InsecureRequestWarning)\n"
     ]
    },
    {
     "name": "stdout",
     "output_type": "stream",
     "text": [
      "There are 976 total results and 20 results on this page\n",
      "---------------\n",
      "1. Herpetology Collection - Royal Ontario Museum\n",
      "2. Herpetology Collection - Royal Ontario Museum\n",
      "3. On a collection of reptiles and frogs chiefly from Singapore.\n",
      "4. Effects of nonlethal predation and competition on life-history characteristics and behavior of larval Oregon spotted frog (Rana pretiosa) and larval red-legged frog (Rana aurora)\n",
      "5. Differences in foraging habits during the day and night time in the green frog, Rana clamitans.\n",
      "6. Evaluating group housing strategies for the ex-situ conservation of harlequin frogs (Atelopus spp.) using behavioral and physiological indicators\n",
      "7. <p>Total annual biomass (g) of recaptured breeding wood frogs at 11 vernal pools in east-central Maine, USA.</p>\n",
      "8. Correction: A Novel Reproductive Mode in Frogs: A New Species of Fanged Frog with Internal Fertilization and Birth of Tadpoles\n",
      "9. Physiologische studien über die Hemmungsmechanismen für die reflexthätigkeit des Rückenmarks im gehirne des Frosches / \n",
      "10. Uninfected control frogs and frogs infected for 6 days with FV3 were treated with BrdU 48 hrs before the assay\n",
      "11. Fatigue and work capacity of muscles from frogs treated with male sex hormone\n",
      "12. Representative two-color flow cytometry analysis of splenocytes from uninfected control frogs (A), and frogs infected for 6 days (B)\n",
      "13. The frog book; North American toads and frogs, with a study of the habits and life histories of those of the northeastern states. \n",
      "14. Overwintering of Columbia spotted frogs in northeastern Oregon\n",
      "15. Mycobacterium liflandii Outbreak in a Research Colony of Xenopus (Silurana) tropicalis Frogs\n",
      "16. <i>Frankixalus</i>, a New Rhacophorid Genus of Tree Hole Breeding Frogs with Oophagous Tadpoles\n",
      "17. Residues of Polybrominated Diphenyl Ethers in Frogs (<i>Rana limnocharis</i>) from a Contaminated Site, South China: Tissue Distribution, Biomagnification, and Maternal Transfer\n",
      "18. Cryoprotectants and Extreme Freeze Tolerance in a Subarctic Population of the Wood Frog\n",
      "19. Assessment of radiocesium contamination in frogs 18 months after the Fukushima Daiichi nuclear disaster\n",
      "20. \n"
     ]
    }
   ],
   "source": [
    "basic_query = {\n",
    "    \"query\": {\n",
    "        \"query_string\": {\n",
    "            \"query\": \"frogs\"\n",
    "        }\n",
    "    },\n",
    "    \"size\": 20\n",
    "}\n",
    "\n",
    "query_results = query_share(OSF_APP_URL, basic_query)\n",
    "\n",
    "print(\n",
    "    'There are {} total results and {} results on this page'.format(\n",
    "        query_results['count'],\n",
    "        len(query_results['results'])\n",
    "    )\n",
    ")\n",
    "print('---------------')\n",
    "for result in enumerate(query_results['results']):\n",
    "    print('{}. {}'.format(result[0] + 1, result[1]['title'].encode('utf-8')))"
   ]
  },
  {
   "cell_type": "markdown",
   "metadata": {},
   "source": [
    "We can also paginate through results by specifying the place to start in all of the results."
   ]
  },
  {
   "cell_type": "code",
   "execution_count": 4,
   "metadata": {
    "collapsed": false
   },
   "outputs": [
    {
     "name": "stderr",
     "output_type": "stream",
     "text": [
      "/Users/erin/.virtualenvs/tuts/lib/python2.7/site-packages/requests/packages/urllib3/connectionpool.py:791: InsecureRequestWarning: Unverified HTTPS request is being made. Adding certificate verification is strongly advised. See: https://urllib3.readthedocs.org/en/latest/security.html\n",
      "  InsecureRequestWarning)\n"
     ]
    },
    {
     "name": "stdout",
     "output_type": "stream",
     "text": [
      "There are 976 total results and 10 results on this page\n",
      "---------------\n",
      "1. Herpetology Collection - Royal Ontario Museum\n",
      "2. Herpetology Collection - Royal Ontario Museum\n",
      "3. On a collection of reptiles and frogs chiefly from Singapore.\n",
      "4. Effects of nonlethal predation and competition on life-history characteristics and behavior of larval Oregon spotted frog (Rana pretiosa) and larval red-legged frog (Rana aurora)\n",
      "5. Differences in foraging habits during the day and night time in the green frog, Rana clamitans.\n",
      "6. Evaluating group housing strategies for the ex-situ conservation of harlequin frogs (Atelopus spp.) using behavioral and physiological indicators\n",
      "7. <p>Total annual biomass (g) of recaptured breeding wood frogs at 11 vernal pools in east-central Maine, USA.</p>\n",
      "8. Correction: A Novel Reproductive Mode in Frogs: A New Species of Fanged Frog with Internal Fertilization and Birth of Tadpoles\n",
      "9. Physiologische studien über die Hemmungsmechanismen für die reflexthätigkeit des Rückenmarks im gehirne des Frosches / \n",
      "10. Uninfected control frogs and frogs infected for 6 days with FV3 were treated with BrdU 48 hrs before the assay\n",
      "---------------\n",
      "*** Making another query ***\n",
      "---------------\n",
      "There are 976 total results and 10 results on this page\n",
      "---------------\n",
      "1. Fatigue and work capacity of muscles from frogs treated with male sex hormone\n",
      "2. Representative two-color flow cytometry analysis of splenocytes from uninfected control frogs (A), and frogs infected for 6 days (B)\n",
      "3. The frog book; North American toads and frogs, with a study of the habits and life histories of those of the northeastern states. \n",
      "4. Overwintering of Columbia spotted frogs in northeastern Oregon\n",
      "5. Mycobacterium liflandii Outbreak in a Research Colony of Xenopus (Silurana) tropicalis Frogs\n",
      "6. <i>Frankixalus</i>, a New Rhacophorid Genus of Tree Hole Breeding Frogs with Oophagous Tadpoles\n",
      "7. Residues of Polybrominated Diphenyl Ethers in Frogs (<i>Rana limnocharis</i>) from a Contaminated Site, South China: Tissue Distribution, Biomagnification, and Maternal Transfer\n",
      "8. Cryoprotectants and Extreme Freeze Tolerance in a Subarctic Population of the Wood Frog\n",
      "9. Assessment of radiocesium contamination in frogs 18 months after the Fukushima Daiichi nuclear disaster\n",
      "10. \n"
     ]
    },
    {
     "name": "stderr",
     "output_type": "stream",
     "text": [
      "/Users/erin/.virtualenvs/tuts/lib/python2.7/site-packages/requests/packages/urllib3/connectionpool.py:791: InsecureRequestWarning: Unverified HTTPS request is being made. Adding certificate verification is strongly advised. See: https://urllib3.readthedocs.org/en/latest/security.html\n",
      "  InsecureRequestWarning)\n"
     ]
    }
   ],
   "source": [
    "basic_query = {\n",
    "    \"query\": {\n",
    "        \"query_string\": {\n",
    "            \"query\": \"frogs\"\n",
    "        }\n",
    "    }\n",
    "}\n",
    "\n",
    "query_results = query_share(OSF_APP_URL, basic_query)\n",
    "\n",
    "print(\n",
    "    'There are {} total results and {} results on this page'.format(\n",
    "        query_results['count'],\n",
    "        len(query_results['results'])\n",
    "    )\n",
    ")\n",
    "print('---------------')\n",
    "for result in enumerate(query_results['results']):\n",
    "    print('{}. {}'.format(result[0] + 1, result[1]['title'].encode('utf-8')))\n",
    "\n",
    "print('---------------')\n",
    "print('*** Making another query ***')\n",
    "print('---------------')\n",
    "\n",
    "basic_query['from'] = 10  # Add the 'from' parameter to the query to pick up at the next page of results\n",
    "\n",
    "query_results = query_share(OSF_APP_URL, basic_query)\n",
    "\n",
    "print(\n",
    "    'There are {} total results and {} results on this page'.format(\n",
    "        query_results['count'],\n",
    "        len(query_results['results'])\n",
    "    )\n",
    ")\n",
    "print('---------------')\n",
    "for result in enumerate(query_results['results']):\n",
    "    print('{}. {}'.format(result[0] + 1, result[1]['title'].encode('utf-8')))"
   ]
  },
  {
   "cell_type": "markdown",
   "metadata": {},
   "source": [
    "### Pagination with sharepa\n",
    "\n",
    "You can also use sharepa to paginate through all of the results in your query, and to access slices of your query at any time. The ShareSearch object returns a generator that you can use to access all results, using slices."
   ]
  },
  {
   "cell_type": "code",
   "execution_count": 5,
   "metadata": {
    "collapsed": false
   },
   "outputs": [],
   "source": [
    "from sharepa import ShareSearch\n",
    "from sharepa.helpers import pretty_print\n",
    "\n",
    "frogs_search = ShareSearch()\n",
    "\n",
    "frogs_search = frogs_search.query(\n",
    "    'query_string',\n",
    "    query='frogs'\n",
    ")"
   ]
  },
  {
   "cell_type": "code",
   "execution_count": 6,
   "metadata": {
    "collapsed": false
   },
   "outputs": [
    {
     "name": "stdout",
     "output_type": "stream",
     "text": [
      "1. Herpetology Collection - Royal Ontario Museum\n",
      "2. Herpetology Collection - Royal Ontario Museum\n",
      "3. On a collection of reptiles and frogs chiefly from Singapore.\n",
      "4. Effects of nonlethal predation and competition on life-history characteristics and behavior of larval Oregon spotted frog (Rana pretiosa) and larval red-legged frog (Rana aurora)\n",
      "5. Differences in foraging habits during the day and night time in the green frog, Rana clamitans.\n",
      "6. Evaluating group housing strategies for the ex-situ conservation of harlequin frogs (Atelopus spp.) using behavioral and physiological indicators\n",
      "7. <p>Total annual biomass (g) of recaptured breeding wood frogs at 11 vernal pools in east-central Maine, USA.</p>\n",
      "8. Correction: A Novel Reproductive Mode in Frogs: A New Species of Fanged Frog with Internal Fertilization and Birth of Tadpoles\n",
      "9. Physiologische studien über die Hemmungsmechanismen für die reflexthätigkeit des Rückenmarks im gehirne des Frosches / \n",
      "10. Uninfected control frogs and frogs infected for 6 days with FV3 were treated with BrdU 48 hrs before the assay\n"
     ]
    }
   ],
   "source": [
    "frog_results = frogs_search.execute()\n",
    "for result in enumerate(frog_results):\n",
    "    print('{}. {}'.format(result[0] + 1, result[1].title.encode('utf-8')))"
   ]
  },
  {
   "cell_type": "code",
   "execution_count": 7,
   "metadata": {
    "collapsed": false
   },
   "outputs": [
    {
     "name": "stdout",
     "output_type": "stream",
     "text": [
      "1. Fatigue and work capacity of muscles from frogs treated with male sex hormone\n",
      "2. Representative two-color flow cytometry analysis of splenocytes from uninfected control frogs (A), and frogs infected for 6 days (B)\n",
      "3. The frog book; North American toads and frogs, with a study of the habits and life histories of those of the northeastern states. \n",
      "4. Overwintering of Columbia spotted frogs in northeastern Oregon\n",
      "5. Mycobacterium liflandii Outbreak in a Research Colony of Xenopus (Silurana) tropicalis Frogs\n",
      "6. <i>Frankixalus</i>, a New Rhacophorid Genus of Tree Hole Breeding Frogs with Oophagous Tadpoles\n",
      "7. Residues of Polybrominated Diphenyl Ethers in Frogs (<i>Rana limnocharis</i>) from a Contaminated Site, South China: Tissue Distribution, Biomagnification, and Maternal Transfer\n",
      "8. Cryoprotectants and Extreme Freeze Tolerance in a Subarctic Population of the Wood Frog\n",
      "9. Assessment of radiocesium contamination in frogs 18 months after the Fukushima Daiichi nuclear disaster\n",
      "10. \n"
     ]
    }
   ],
   "source": [
    "frog_results = frogs_search[10:20].execute()\n",
    "for result in enumerate(frog_results):\n",
    "    print('{}. {}'.format(result[0] + 1, result[1].title))"
   ]
  },
  {
   "cell_type": "markdown",
   "metadata": {},
   "source": [
    "### Aggregations\n",
    "\n",
    "While searching for individual results is useful, sharepa also lets you make aggregation queries that give you results across the entirety of the SHARE dataset at once. This is useful if you're curious about the completeness of data sets.\n",
    "\n",
    "For example, we can find the number of documents per source that are missing titles."
   ]
  },
  {
   "cell_type": "code",
   "execution_count": 8,
   "metadata": {
    "collapsed": false
   },
   "outputs": [],
   "source": [
    "missing_titles_aggregation = {\n",
    "    \"query\": {\n",
    "        \"query_string\": {\n",
    "            \"analyze_wildcard\": True, \n",
    "            \"query\": \"NOT title:*\"\n",
    "        }\n",
    "    }, \n",
    "    \"aggs\": {\n",
    "        \"sources\": {\n",
    "            \"terms\": {\n",
    "                \"field\": \"_type\", # A field where the SHARE source is stored                \n",
    "                \"min_doc_count\": 0, \n",
    "                \"size\": 0  # Will return all sources, regardless if there are results\n",
    "            }\n",
    "        }\n",
    "    }\n",
    "}"
   ]
  },
  {
   "cell_type": "code",
   "execution_count": 9,
   "metadata": {
    "collapsed": false
   },
   "outputs": [
    {
     "name": "stderr",
     "output_type": "stream",
     "text": [
      "/Users/erin/.virtualenvs/tuts/lib/python2.7/site-packages/requests/packages/urllib3/connectionpool.py:791: InsecureRequestWarning: Unverified HTTPS request is being made. Adding certificate verification is strongly advised. See: https://urllib3.readthedocs.org/en/latest/security.html\n",
      "  InsecureRequestWarning)\n"
     ]
    },
    {
     "name": "stdout",
     "output_type": "stream",
     "text": [
      "dataone has 287426 documents without titles\n",
      "biomedcentral has 22891 documents without titles\n",
      "citeseerx has 10619 documents without titles\n",
      "crossref has 6183 documents without titles\n",
      "datacite has 229 documents without titles\n",
      "smithsonian has 102 documents without titles\n",
      "pubmedcentral has 56 documents without titles\n",
      "bhl has 7 documents without titles\n",
      "figshare has 5 documents without titles\n",
      "rcaap has 5 documents without titles\n",
      "uiucideals has 4 documents without titles\n",
      "mit has 3 documents without titles\n",
      "uwashington has 3 documents without titles\n",
      "caltech has 2 documents without titles\n",
      "iowaresearch has 2 documents without titles\n",
      "scitech has 2 documents without titles\n",
      "dash has 1 documents without titles\n",
      "duke has 1 documents without titles\n",
      "ghent has 1 documents without titles\n",
      "icpsr has 1 documents without titles\n",
      "lshtm has 1 documents without titles\n",
      "scholarsphere has 1 documents without titles\n",
      "ucescholarship has 1 documents without titles\n",
      "addis_ababa has 0 documents without titles\n",
      "arxiv_oai has 0 documents without titles\n",
      "asu has 0 documents without titles\n",
      "calhoun has 0 documents without titles\n",
      "calpoly has 0 documents without titles\n",
      "cambridge has 0 documents without titles\n",
      "chapman has 0 documents without titles\n",
      "clinicaltrials has 0 documents without titles\n",
      "cmu has 0 documents without titles\n",
      "cogprints has 0 documents without titles\n",
      "columbia has 0 documents without titles\n",
      "csuohio has 0 documents without titles\n",
      "cuny has 0 documents without titles\n",
      "cuscholar has 0 documents without titles\n",
      "cyberleninka has 0 documents without titles\n",
      "dailyssrn has 0 documents without titles\n",
      "digitalhoward has 0 documents without titles\n",
      "doepages has 0 documents without titles\n",
      "dryad has 0 documents without titles\n",
      "elife has 0 documents without titles\n",
      "erudit has 0 documents without titles\n",
      "fit has 0 documents without titles\n",
      "hacettepe has 0 documents without titles\n",
      "harvarddataverse has 0 documents without titles\n",
      "huskiecommons has 0 documents without titles\n",
      "iastate has 0 documents without titles\n",
      "iwu_commons has 0 documents without titles\n",
      "kent has 0 documents without titles\n",
      "krex has 0 documents without titles\n",
      "lwbin has 0 documents without titles\n",
      "mason has 0 documents without titles\n",
      "mblwhoilibrary has 0 documents without titles\n",
      "mizzou has 0 documents without titles\n",
      "nature has 0 documents without titles\n",
      "ncar has 0 documents without titles\n",
      "neurovault has 0 documents without titles\n",
      "nih has 0 documents without titles\n",
      "nist has 0 documents without titles\n",
      "noaa_nodc has 0 documents without titles\n",
      "npp_ksu has 0 documents without titles\n",
      "oaktrust has 0 documents without titles\n",
      "opensiuc has 0 documents without titles\n",
      "osf has 0 documents without titles\n",
      "pcom has 0 documents without titles\n",
      "pcurio has 0 documents without titles\n",
      "pdxscholar has 0 documents without titles\n",
      "plos has 0 documents without titles\n",
      "purdue has 0 documents without titles\n",
      "scholarsarchiveosu has 0 documents without titles\n",
      "scholarsbank has 0 documents without titles\n",
      "scholarscompass_vcu has 0 documents without titles\n",
      "scholarworks_umass has 0 documents without titles\n",
      "shareok has 0 documents without titles\n",
      "sldr has 0 documents without titles\n",
      "spdataverse has 0 documents without titles\n",
      "springer has 0 documents without titles\n",
      "stcloud has 0 documents without titles\n",
      "tdar has 0 documents without titles\n",
      "texasstate has 0 documents without titles\n",
      "trinity has 0 documents without titles\n",
      "u_south_fl has 0 documents without titles\n",
      "udel has 0 documents without titles\n",
      "ukansas has 0 documents without titles\n",
      "uky has 0 documents without titles\n",
      "umassmed has 0 documents without titles\n",
      "umich has 0 documents without titles\n",
      "umontreal has 0 documents without titles\n",
      "uncg has 0 documents without titles\n",
      "unl_digitalcommons has 0 documents without titles\n",
      "uow has 0 documents without titles\n",
      "upennsylvania has 0 documents without titles\n",
      "usgs has 0 documents without titles\n",
      "ut_chattanooga has 0 documents without titles\n",
      "utaustin has 0 documents without titles\n",
      "utktrace has 0 documents without titles\n",
      "valposcholar has 0 documents without titles\n",
      "vtech has 0 documents without titles\n",
      "wash_state_u has 0 documents without titles\n",
      "waynestate has 0 documents without titles\n",
      "wustlopenscholarship has 0 documents without titles\n",
      "zenodo has 0 documents without titles\n"
     ]
    }
   ],
   "source": [
    "results_without_titles = query_share(OSF_APP_URL, missing_titles_aggregation)\n",
    "\n",
    "missing_titles_counts = results_without_titles['aggregations']['sources']['buckets']\n",
    "\n",
    "for source in missing_titles_counts:\n",
    "    print('{} has {} documents without titles'.format(source['key'], source['doc_count'], ))"
   ]
  },
  {
   "cell_type": "markdown",
   "metadata": {},
   "source": [
    "This information isn't terribly useful if we don't also know how many documents are in each source.\n",
    "\n",
    "Let's get that information as well, along stats for what percentage of documents from each source are missing titles. \n",
    "\n",
    "We'll do this with an elasticsearch \"sigificant terms\" aggregation. We're only interested in results that have 1 document or more, meaning all documents from the other sources have titles."
   ]
  },
  {
   "cell_type": "code",
   "execution_count": 10,
   "metadata": {
    "collapsed": true
   },
   "outputs": [],
   "source": [
    "sig_terms_agg = {\n",
    "    \"query\": {\n",
    "        \"query_string\": {\n",
    "            \"analyze_wildcard\": True, \n",
    "            \"query\": \"NOT title:*\"\n",
    "        }\n",
    "    },\n",
    "    \"aggs\": {\n",
    "        \"sources\":{\n",
    "            \"significant_terms\":{\n",
    "                \"field\": \"_type\", # A field where the SHARE source is stored                \n",
    "                \"min_doc_count\": 1, # Only results with more than one document\n",
    "                \"percentage\": {} # This will make the \"score\" parameter a percentage\n",
    "            }\n",
    "        }\n",
    "    }\n",
    "}"
   ]
  },
  {
   "cell_type": "code",
   "execution_count": 11,
   "metadata": {
    "collapsed": false
   },
   "outputs": [
    {
     "name": "stderr",
     "output_type": "stream",
     "text": [
      "/Users/erin/.virtualenvs/tuts/lib/python2.7/site-packages/requests/packages/urllib3/connectionpool.py:791: InsecureRequestWarning: Unverified HTTPS request is being made. Adding certificate verification is strongly advised. See: https://urllib3.readthedocs.org/en/latest/security.html\n",
      "  InsecureRequestWarning)\n"
     ]
    }
   ],
   "source": [
    "docs_with_no_title_results = query_share(OSF_APP_URL, sig_terms_agg)\n",
    "docs_with_no_title = docs_with_no_title_results['aggregations']['sources']['buckets']"
   ]
  },
  {
   "cell_type": "code",
   "execution_count": 12,
   "metadata": {
    "collapsed": false
   },
   "outputs": [
    {
     "name": "stdout",
     "output_type": "stream",
     "text": [
      "91.15% (or 22891/25113) of documents from biomedcentral have no titles\n",
      "75.80% (or 287426/379200) of documents from dataone have no titles\n",
      "5.06% (or 10619/210002) of documents from citeseerx have no titles\n",
      "0.88% (or 102/11560) of documents from smithsonian have no titles\n",
      "0.52% (or 6183/1183728) of documents from crossref have no titles\n",
      "0.37% (or 1/270) of documents from scholarsphere have no titles\n",
      "0.22% (or 1/452) of documents from duke have no titles\n",
      "0.08% (or 1/1207) of documents from dash have no titles\n",
      "0.05% (or 1/2084) of documents from ghent have no titles\n",
      "0.03% (or 2/6251) of documents from caltech have no titles\n"
     ]
    }
   ],
   "source": [
    "for source in docs_with_no_title:\n",
    "    print(\n",
    "        '{}% (or {}/{}) of documents from {} have no titles'.format(\n",
    "            format(source['score']*100, '.2f'),\n",
    "            source['doc_count'],\n",
    "            source['bg_count'],\n",
    "            source['key']\n",
    "        )\n",
    "    )"
   ]
  },
  {
   "cell_type": "markdown",
   "metadata": {},
   "source": [
    "#### Aggregations with sharepa\n",
    "\n",
    "You can also use sharepa to do aggregations.\n",
    "\n",
    "Let's make a sharepa search object that will give us the number of documents per sourcethat don't have tags."
   ]
  },
  {
   "cell_type": "code",
   "execution_count": 13,
   "metadata": {
    "collapsed": false
   },
   "outputs": [
    {
     "data": {
      "text/plain": [
       "SignificantTerms(field='_type', min_doc_count=1, percentage={}, size=0)"
      ]
     },
     "execution_count": 13,
     "metadata": {},
     "output_type": "execute_result"
    }
   ],
   "source": [
    "no_tags_search = ShareSearch()\n",
    "\n",
    "no_tags_search = no_tags_search.query(\n",
    "    'query_string', # Type of query, will accept a lucene query string\n",
    "    query='NOT tags:*', # This lucene query string will find all documents that don't have tags\n",
    "    analyze_wildcard=True  # This will make elasticsearch pay attention to the asterisk (which matches anything)\n",
    ")\n",
    "\n",
    "no_tags_search.aggs.bucket(\n",
    "    'sources',  # Every aggregation needs a name\n",
    "    'significant_terms',  # There are many kinds of aggregations\n",
    "    field='_type',  # We store the source of a document in its type, so this will aggregate by source\n",
    "    min_doc_count=1,\n",
    "    percentage={},\n",
    "    size=0\n",
    ")"
   ]
  },
  {
   "cell_type": "markdown",
   "metadata": {},
   "source": [
    "We can see which query is actually going to be sent to elasticsearch by printing out the query. This is very similar to the queries we were defining by hand up above."
   ]
  },
  {
   "cell_type": "code",
   "execution_count": 14,
   "metadata": {
    "collapsed": false,
    "scrolled": true
   },
   "outputs": [
    {
     "name": "stdout",
     "output_type": "stream",
     "text": [
      "{\n",
      "    \"query\": {\n",
      "        \"query_string\": {\n",
      "            \"analyze_wildcard\": true, \n",
      "            \"query\": \"NOT tags:*\"\n",
      "        }\n",
      "    }, \n",
      "    \"aggs\": {\n",
      "        \"sources\": {\n",
      "            \"significant_terms\": {\n",
      "                \"field\": \"_type\", \n",
      "                \"percentage\": {}, \n",
      "                \"min_doc_count\": 1, \n",
      "                \"size\": 0\n",
      "            }\n",
      "        }\n",
      "    }\n",
      "}\n"
     ]
    }
   ],
   "source": [
    "pretty_print(no_tags_search.to_dict())"
   ]
  },
  {
   "cell_type": "code",
   "execution_count": 15,
   "metadata": {
    "collapsed": false
   },
   "outputs": [
    {
     "name": "stdout",
     "output_type": "stream",
     "text": [
      "100.00% of documents from nist do not have tags\n",
      "99.77% of documents from dailyssrn do not have tags\n",
      "99.63% of documents from pcurio do not have tags\n",
      "99.48% of documents from wash_state_u do not have tags\n",
      "99.37% of documents from addis_ababa do not have tags\n",
      "99.31% of documents from ut_chattanooga do not have tags\n",
      "98.94% of documents from biomedcentral do not have tags\n",
      "98.44% of documents from pubmedcentral do not have tags\n",
      "98.41% of documents from asu do not have tags\n",
      "98.40% of documents from scholarsbank do not have tags\n",
      "98.30% of documents from columbia do not have tags\n",
      "98.22% of documents from figshare do not have tags\n",
      "98.08% of documents from cogprints do not have tags\n",
      "97.94% of documents from plos do not have tags\n",
      "97.90% of documents from vtech do not have tags\n",
      "97.87% of documents from mblwhoilibrary do not have tags\n",
      "97.78% of documents from calhoun do not have tags\n",
      "97.78% of documents from hacettepe do not have tags\n",
      "97.21% of documents from tdar do not have tags\n",
      "97.12% of documents from utktrace do not have tags\n",
      "97.06% of documents from cmu do not have tags\n",
      "96.87% of documents from scholarsarchiveosu do not have tags\n",
      "96.75% of documents from citeseerx do not have tags\n",
      "96.72% of documents from cuscholar do not have tags\n",
      "94.89% of documents from upennsylvania do not have tags\n",
      "94.74% of documents from stcloud do not have tags\n",
      "94.66% of documents from ghent do not have tags\n",
      "94.41% of documents from pcom do not have tags\n",
      "94.06% of documents from bhl do not have tags\n",
      "93.99% of documents from trinity do not have tags\n",
      "93.89% of documents from calpoly do not have tags\n",
      "93.81% of documents from oaktrust do not have tags\n",
      "93.49% of documents from cyberleninka do not have tags\n",
      "93.34% of documents from dash do not have tags\n",
      "93.00% of documents from scholarscompass_vcu do not have tags\n",
      "92.80% of documents from harvarddataverse do not have tags\n",
      "92.30% of documents from iastate do not have tags\n",
      "92.05% of documents from springer do not have tags\n",
      "91.71% of documents from uky do not have tags\n",
      "91.27% of documents from noaa_nodc do not have tags\n",
      "91.18% of documents from mason do not have tags\n",
      "91.10% of documents from waynestate do not have tags\n",
      "91.07% of documents from krex do not have tags\n",
      "90.66% of documents from opensiuc do not have tags\n",
      "90.49% of documents from mizzou do not have tags\n",
      "90.42% of documents from umich do not have tags\n",
      "90.32% of documents from caltech do not have tags\n",
      "89.66% of documents from sldr do not have tags\n",
      "89.57% of documents from zenodo do not have tags\n",
      "89.45% of documents from uow do not have tags\n",
      "89.20% of documents from texasstate do not have tags\n",
      "88.39% of documents from iowaresearch do not have tags\n",
      "88.22% of documents from arxiv_oai do not have tags\n",
      "88.16% of documents from erudit do not have tags\n",
      "87.98% of documents from npp_ksu do not have tags\n",
      "87.96% of documents from huskiecommons do not have tags\n",
      "86.76% of documents from iwu_commons do not have tags\n",
      "86.47% of documents from cambridge do not have tags\n",
      "86.46% of documents from datacite do not have tags\n",
      "86.18% of documents from uncg do not have tags\n",
      "85.95% of documents from smithsonian do not have tags\n",
      "85.63% of documents from osf do not have tags\n",
      "85.20% of documents from scholarworks_umass do not have tags\n",
      "84.21% of documents from ncar do not have tags\n",
      "84.13% of documents from pdxscholar do not have tags\n",
      "84.08% of documents from csuohio do not have tags\n",
      "82.58% of documents from valposcholar do not have tags\n",
      "82.57% of documents from duke do not have tags\n",
      "82.22% of documents from kent do not have tags\n",
      "81.96% of documents from uiucideals do not have tags\n",
      "81.37% of documents from digitalhoward do not have tags\n",
      "81.23% of documents from udel do not have tags\n",
      "81.08% of documents from umassmed do not have tags\n",
      "80.09% of documents from mit do not have tags\n",
      "79.32% of documents from chapman do not have tags\n",
      "79.10% of documents from u_south_fl do not have tags\n",
      "78.84% of documents from wustlopenscholarship do not have tags\n",
      "78.55% of documents from utaustin do not have tags\n",
      "77.88% of documents from umontreal do not have tags\n",
      "76.40% of documents from dataone do not have tags\n",
      "75.99% of documents from unl_digitalcommons do not have tags\n",
      "74.86% of documents from rcaap do not have tags\n",
      "72.96% of documents from lshtm do not have tags\n",
      "72.94% of documents from crossref do not have tags\n",
      "71.43% of documents from fit do not have tags\n",
      "71.13% of documents from nature do not have tags\n",
      "70.83% of documents from purdue do not have tags\n",
      "68.25% of documents from ukansas do not have tags\n",
      "68.01% of documents from cuny do not have tags\n",
      "66.43% of documents from uwashington do not have tags\n",
      "64.04% of documents from ucescholarship do not have tags\n",
      "60.31% of documents from scholarsphere do not have tags\n",
      "58.77% of documents from doepages do not have tags\n",
      "58.33% of documents from scitech do not have tags\n",
      "57.69% of documents from dryad do not have tags\n",
      "55.06% of documents from shareok do not have tags\n",
      "50.56% of documents from spdataverse do not have tags\n",
      "38.86% of documents from nih do not have tags\n",
      "25.53% of documents from usgs do not have tags\n",
      "24.35% of documents from clinicaltrials do not have tags\n",
      "21.01% of documents from icpsr do not have tags\n",
      "18.88% of documents from neurovault do not have tags\n",
      "4.12% of documents from lwbin do not have tags\n",
      "3.11% of documents from elife do not have tags\n"
     ]
    }
   ],
   "source": [
    "aggregated_results = no_tags_search.execute()\n",
    "\n",
    "for source in aggregated_results.aggregations['sources']['buckets']:\n",
    "    print(\n",
    "        '{}% of documents from {} do not have tags'.format(\n",
    "            format(source['score']*100, '.2f'),\n",
    "            source['key'] \n",
    "        )\n",
    "    )"
   ]
  },
  {
   "cell_type": "markdown",
   "metadata": {},
   "source": [
    "### Top tags \n",
    "\n",
    "Let's do an elasticsearch query to find out what the most used tags are used in the dataset across all sources."
   ]
  },
  {
   "cell_type": "code",
   "execution_count": 16,
   "metadata": {
    "collapsed": false
   },
   "outputs": [
    {
     "name": "stdout",
     "output_type": "stream",
     "text": [
      "[\n",
      "    {\n",
      "        \"key\": \"journal\", \n",
      "        \"doc_count\": 73638\n",
      "    }, \n",
      "    {\n",
      "        \"key\": \"science\", \n",
      "        \"doc_count\": 51079\n",
      "    }, \n",
      "    {\n",
      "        \"key\": \"all\", \n",
      "        \"doc_count\": 47815\n",
      "    }, \n",
      "    {\n",
      "        \"key\": \"j\", \n",
      "        \"doc_count\": 43025\n",
      "    }, \n",
      "    {\n",
      "        \"key\": \"medicine\", \n",
      "        \"doc_count\": 35745\n",
      "    }, \n",
      "    {\n",
      "        \"key\": \"research\", \n",
      "        \"doc_count\": 35627\n",
      "    }, \n",
      "    {\n",
      "        \"key\": \"health\", \n",
      "        \"doc_count\": 30049\n",
      "    }, \n",
      "    {\n",
      "        \"key\": \"data\", \n",
      "        \"doc_count\": 27588\n",
      "    }, \n",
      "    {\n",
      "        \"key\": \"engineering\", \n",
      "        \"doc_count\": 25836\n",
      "    }, \n",
      "    {\n",
      "        \"key\": \"water\", \n",
      "        \"doc_count\": 25112\n",
      "    }\n",
      "]\n"
     ]
    }
   ],
   "source": [
    "top_tag_search = ShareSearch()\n",
    "\n",
    "top_tag_search.aggs.bucket(\n",
    "    'tagsTermFilter',  # Every aggregation needs a name\n",
    "    'terms',  # There are many kinds of aggregations\n",
    "    field='tags',  # We store the source of a document in its type, so this will aggregate by source\n",
    "    min_doc_count=1,\n",
    "    exclude= \"of|and|or\",\n",
    "    size=10\n",
    ")\n",
    "\n",
    "# pretty_print(top_tag_search.to_dict())\n",
    "\n",
    "top_tag_results_executed = top_tag_search.execute()\n",
    "top_tag_results = top_tag_results_executed.aggregations.tagsTermFilter.to_dict()['buckets']\n",
    "\n",
    "pretty_print(top_tag_results)"
   ]
  },
  {
   "cell_type": "markdown",
   "metadata": {},
   "source": [
    "## Basic Plotting\n",
    "\n",
    "Sharepa has some basic functions to get you started making plots using matplotlib and pandas.\n",
    "\n",
    "### Creating a dataframe from sharepa data\n",
    "\n",
    "Raw sharepa data is in the same format as elasticsearch results, represented as a nested structure. To convert the data into a format that pandas can recognize, we have to convert it into a dataframe.\n",
    "\n",
    "Let's take our top tags aggregation, make it into a pandas data frame, and plot a bar graph. Then, we'll plot the results."
   ]
  },
  {
   "cell_type": "code",
   "execution_count": 17,
   "metadata": {
    "collapsed": false
   },
   "outputs": [
    {
     "data": {
      "text/html": [
       "<div>\n",
       "<table border=\"1\" class=\"dataframe\">\n",
       "  <thead>\n",
       "    <tr style=\"text-align: right;\">\n",
       "      <th></th>\n",
       "      <th>doc_count</th>\n",
       "      <th>key</th>\n",
       "    </tr>\n",
       "  </thead>\n",
       "  <tbody>\n",
       "    <tr>\n",
       "      <th>0</th>\n",
       "      <td>73638</td>\n",
       "      <td>journal</td>\n",
       "    </tr>\n",
       "    <tr>\n",
       "      <th>1</th>\n",
       "      <td>51079</td>\n",
       "      <td>science</td>\n",
       "    </tr>\n",
       "    <tr>\n",
       "      <th>2</th>\n",
       "      <td>47815</td>\n",
       "      <td>all</td>\n",
       "    </tr>\n",
       "    <tr>\n",
       "      <th>3</th>\n",
       "      <td>43025</td>\n",
       "      <td>j</td>\n",
       "    </tr>\n",
       "    <tr>\n",
       "      <th>4</th>\n",
       "      <td>35745</td>\n",
       "      <td>medicine</td>\n",
       "    </tr>\n",
       "    <tr>\n",
       "      <th>5</th>\n",
       "      <td>35627</td>\n",
       "      <td>research</td>\n",
       "    </tr>\n",
       "    <tr>\n",
       "      <th>6</th>\n",
       "      <td>30049</td>\n",
       "      <td>health</td>\n",
       "    </tr>\n",
       "    <tr>\n",
       "      <th>7</th>\n",
       "      <td>27588</td>\n",
       "      <td>data</td>\n",
       "    </tr>\n",
       "    <tr>\n",
       "      <th>8</th>\n",
       "      <td>25836</td>\n",
       "      <td>engineering</td>\n",
       "    </tr>\n",
       "    <tr>\n",
       "      <th>9</th>\n",
       "      <td>25112</td>\n",
       "      <td>water</td>\n",
       "    </tr>\n",
       "  </tbody>\n",
       "</table>\n",
       "</div>"
      ],
      "text/plain": [
       "   doc_count          key\n",
       "0      73638      journal\n",
       "1      51079      science\n",
       "2      47815          all\n",
       "3      43025            j\n",
       "4      35745     medicine\n",
       "5      35627     research\n",
       "6      30049       health\n",
       "7      27588         data\n",
       "8      25836  engineering\n",
       "9      25112        water"
      ]
     },
     "execution_count": 17,
     "metadata": {},
     "output_type": "execute_result"
    }
   ],
   "source": [
    "import pandas as pd\n",
    "\n",
    "top_tags_dataframe = pd.DataFrame(top_tag_results)\n",
    "top_tags_dataframe"
   ]
  },
  {
   "cell_type": "code",
   "execution_count": 18,
   "metadata": {
    "collapsed": false
   },
   "outputs": [
    {
     "data": {
      "image/png": "[encoded data removed]",
      "text/plain": [
       "<matplotlib.figure.Figure at 0x110c47d50>"
      ]
     },
     "metadata": {},
     "output_type": "display_data"
    }
   ],
   "source": [
    "from matplotlib import pyplot\n",
    "%matplotlib inline\n",
    "\n",
    "top_tags_dataframe.plot(kind='bar', x='key', y='doc_count')\n",
    "pyplot.show()"
   ]
  },
  {
   "cell_type": "markdown",
   "metadata": {},
   "source": [
    "### Complex Queries and Dataframes\n",
    "\n",
    "Let's make a new search, for all documents updated in the years 2012 to 2015 that contain the tag \"science.\""
   ]
  },
  {
   "cell_type": "code",
   "execution_count": 19,
   "metadata": {
    "collapsed": true
   },
   "outputs": [],
   "source": [
    "science_search = ShareSearch() #create search object\n",
    "science_search = science_search.filter( #apply filter to search\n",
    "    \"range\", #applied a range type filter\n",
    "    providerUpdatedDateTime={ #the feild in the data we compare\n",
    "        'gte':'2012-01-01', #hits must be greater than or equal to this date and...\n",
    "        'lte':'2015-12-31' #hits must be less than or equal to this date\n",
    "    }\n",
    ")"
   ]
  },
  {
   "cell_type": "code",
   "execution_count": 20,
   "metadata": {
    "collapsed": false
   },
   "outputs": [],
   "source": [
    "science_search = science_search.filter(\n",
    "     \"prefix\",\n",
    "     tags=\"science\"\n",
    ")\n",
    "\n",
    "science_search.aggs.bucket(\n",
    "    'sources',  # Every aggregation needs a name\n",
    "    'significant_terms',  # There are many kinds of aggregations\n",
    "    field='_type',  # We store the source of a document in its type, so this will aggregate by source\n",
    "    min_doc_count=1,\n",
    "    percentage={},\n",
    "    size=0\n",
    ")\n",
    "\n",
    "science_search_results = science_search.execute()"
   ]
  },
  {
   "cell_type": "markdown",
   "metadata": {},
   "source": [
    "Let's check out that monster of a query we just built"
   ]
  },
  {
   "cell_type": "code",
   "execution_count": 21,
   "metadata": {
    "collapsed": false
   },
   "outputs": [
    {
     "name": "stdout",
     "output_type": "stream",
     "text": [
      "{\n",
      "    \"query\": {\n",
      "        \"filtered\": {\n",
      "            \"filter\": {\n",
      "                \"bool\": {\n",
      "                    \"must\": [\n",
      "                        {\n",
      "                            \"range\": {\n",
      "                                \"providerUpdatedDateTime\": {\n",
      "                                    \"gte\": \"2012-01-01\", \n",
      "                                    \"lte\": \"2015-12-31\"\n",
      "                                }\n",
      "                            }\n",
      "                        }, \n",
      "                        {\n",
      "                            \"prefix\": {\n",
      "                                \"tags\": \"science\"\n",
      "                            }\n",
      "                        }\n",
      "                    ]\n",
      "                }\n",
      "            }, \n",
      "            \"query\": {\n",
      "                \"match_all\": {}\n",
      "            }\n",
      "        }\n",
      "    }, \n",
      "    \"aggs\": {\n",
      "        \"sources\": {\n",
      "            \"significant_terms\": {\n",
      "                \"field\": \"_type\", \n",
      "                \"percentage\": {}, \n",
      "                \"min_doc_count\": 1, \n",
      "                \"size\": 0\n",
      "            }\n",
      "        }\n",
      "    }\n",
      "}\n"
     ]
    }
   ],
   "source": [
    "pretty_print(science_search.to_dict())"
   ]
  },
  {
   "cell_type": "markdown",
   "metadata": {},
   "source": [
    "We can graph this result as well"
   ]
  },
  {
   "cell_type": "code",
   "execution_count": 22,
   "metadata": {
    "collapsed": false
   },
   "outputs": [
    {
     "data": {
      "image/png": "[encoded data removed]",
      "text/plain": [
       "<matplotlib.figure.Figure at 0x110e6e710>"
      ]
     },
     "metadata": {},
     "output_type": "display_data"
    }
   ],
   "source": [
    "import pandas as pd\n",
    "from matplotlib import pyplot\n",
    "\n",
    "%matplotlib inline\n",
    "\n",
    "science_results = science_search_results.aggregations.sources.to_dict()  \n",
    "science_data_frame = pd.DataFrame(science_results['buckets']) \n",
    "\n",
    "science_data_frame['percents'] = (science_data_frame['score'] * 100)\n",
    "\n",
    "science_data_frame[:30].plot(kind='bar', x='key', y='percents') # Limit to the first 30 results for readability\n",
    "\n",
    "pyplot.show()"
   ]
  },
  {
   "cell_type": "markdown",
   "metadata": {},
   "source": [
    "Let's plot the number of document that each source has. We'll limit it to the top 30 sources to make sure that the graph is readable. Here we'll use the sharepa helper function bucket_to_dataframe()"
   ]
  },
  {
   "cell_type": "code",
   "execution_count": 23,
   "metadata": {
    "collapsed": false
   },
   "outputs": [
    {
     "name": "stderr",
     "output_type": "stream",
     "text": [
      "/Users/erin/.virtualenvs/tuts/lib/python2.7/site-packages/ipykernel/__main__.py:22: FutureWarning: sort(columns=....) is deprecated, use sort_values(by=.....)\n"
     ]
    },
    {
     "data": {
      "text/plain": [
       "<matplotlib.axes._subplots.AxesSubplot at 0x110d928d0>"
      ]
     },
     "execution_count": 23,
     "metadata": {},
     "output_type": "execute_result"
    },
    {
     "data": {
      "image/png": "[encoded data removed]",
      "text/plain": [
       "<matplotlib.figure.Figure at 0x110da6a90>"
      ]
     },
     "metadata": {},
     "output_type": "display_data"
    }
   ],
   "source": [
    "from sharepa import bucket_to_dataframe\n",
    "\n",
    "all_results = ShareSearch()\n",
    "\n",
    "all_results = all_results.query(\n",
    "    'query_string', # Type of query, will accept a lucene query string\n",
    "    query='*', # This lucene query string will find all documents that don't have tags\n",
    "    analyze_wildcard=True  # This will make elasticsearch pay attention to the asterisk (which matches anything)\n",
    ")\n",
    "\n",
    "all_results.aggs.bucket(\n",
    "    'sources',  # Every aggregation needs a name\n",
    "    'terms',  # There are many kinds of aggregations, terms is a pretty useful one though\n",
    "    field='_type',  # We store the source of a document in its type, so this will aggregate by source\n",
    "    size=0,  # These are just to make sure we get numbers for all the sources, to make it easier to combine graphs\n",
    "    min_doc_count=0\n",
    ")\n",
    "\n",
    "all_results = all_results.execute()\n",
    "\n",
    "all_results_frame = bucket_to_dataframe('# documents by source', all_results.aggregations.sources.buckets)\n",
    "all_results_frame_sorted = all_results_frame.sort(ascending=False,  columns='# documents by source')\n",
    "all_results_frame_sorted[:30].plot(kind='bar')"
   ]
  },
  {
   "cell_type": "markdown",
   "metadata": {},
   "source": [
    "We can choose different types of plots to generate. Here, we'll make a pie chart of the data sources with the top 10 most results."
   ]
  },
  {
   "cell_type": "code",
   "execution_count": 24,
   "metadata": {
    "collapsed": false
   },
   "outputs": [
    {
     "data": {
      "text/plain": [
       "<matplotlib.axes._subplots.AxesSubplot at 0x110df5410>"
      ]
     },
     "execution_count": 24,
     "metadata": {},
     "output_type": "execute_result"
    },
    {
     "data": {
      "image/png": "[encoded data removed]",
      "text/plain": [
       "<matplotlib.figure.Figure at 0x110c47ed0>"
      ]
     },
     "metadata": {},
     "output_type": "display_data"
    }
   ],
   "source": [
    "all_results_frame_sorted[:10].plot(kind='pie', y=\"# documents by source\", legend=False)"
   ]
  },
  {
   "cell_type": "code",
   "execution_count": null,
   "metadata": {
    "collapsed": true
   },
   "outputs": [],
   "source": []
  }
 ],
 "metadata": {
  "kernelspec": {
   "display_name": "Python 2",
   "language": "python",
   "name": "python2"
  },
  "language_info": {
   "codemirror_mode": {
    "name": "ipython",
    "version": 2
   },
   "file_extension": ".py",
   "mimetype": "text/x-python",
   "name": "python",
   "nbconvert_exporter": "python",
   "pygments_lexer": "ipython2",
   "version": "2.7.11"
  }
 },
 "nbformat": 4,
 "nbformat_minor": 0
}
