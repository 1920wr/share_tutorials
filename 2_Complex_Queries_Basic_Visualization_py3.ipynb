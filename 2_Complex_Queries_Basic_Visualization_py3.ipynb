{
 "cells": [
  {
   "cell_type": "markdown",
   "metadata": {},
   "source": [
    "# Complex Queries and Basic Visualization\n",
    "\n",
    "This notebook will cover how to make more complex queries, using both basic HTTP requests and using sharepa - the SHARE parsing and analysis library.\n",
    "\n",
    "We'll also go over aggregations, or queries that will return summary statistics about the whole dataset. We'll use those aggregations to make some simple data visualizations using pandas and matplotlib."
   ]
  },
  {
   "cell_type": "markdown",
   "metadata": {},
   "source": [
    "## Setup\n",
    "\n",
    "Here we'll define a helper function and specify the SHARE API url that we'll use for querying.\n",
    "\n",
    "We'll also define another helper function to nicely print out our results."
   ]
  },
  {
   "cell_type": "code",
   "execution_count": 1,
   "metadata": {
    "collapsed": true
   },
   "outputs": [],
   "source": [
    "import json\n",
    "import requests\n",
    "\n",
    "SHARE_API = 'https://staging-share.osf.io/api/search/abstractcreativework/_search'\n",
    "\n",
    "def query_share(url, query):\n",
    "    # A helper function that will use the requests library,\n",
    "    # pass along the correct headers,\n",
    "    # and make the query we want\n",
    "    headers = {'Content-Type': 'application/json'}\n",
    "    data = json.dumps(query)\n",
    "    return requests.post(url, headers=headers, data=data, verify=False).json()"
   ]
  },
  {
   "cell_type": "code",
   "execution_count": 2,
   "metadata": {
    "collapsed": true
   },
   "outputs": [],
   "source": [
    "def print_numbered_results(results):\n",
    "    print(\n",
    "        'There are {} total results and {} results on this page'.format(\n",
    "            results['hits']['total'],\n",
    "            len(results['hits']['hits'])\n",
    "        )\n",
    "    )\n",
    "    print('---------------')    \n",
    "    for result in enumerate(results['hits']['hits']):\n",
    "        print('{}. {}'.format(result[0] + 1, result[1]['_source']['title']))"
   ]
  },
  {
   "cell_type": "markdown",
   "metadata": {},
   "source": [
    "## Complex Queries\n",
    "\n",
    "### Pagination\n",
    "\n",
    "One request to the SHARE API will return just 10 results by default. To get more results, you can use the \"size\" parameter in your request, or paginate through the results you get back."
   ]
  },
  {
   "cell_type": "code",
   "execution_count": 3,
   "metadata": {
    "collapsed": false
   },
   "outputs": [
    {
     "name": "stdout",
     "output_type": "stream",
     "text": [
      "There are 106 total results and 10 results on this page\n",
      "---------------\n",
      "1. Reproductive features of three maternal-caring species of <i>Leptodactylus</i> (Anura: Leptodactylidae) with a report on alloparental care in frogs\n",
      "2. New genus of diminutive microhylid frogs from Papua New Guinea\n",
      "3. Genetic evidence for human-mediated introduction of Anatolian water frogs (<i>Pelophylax</i> cf. <i>bedriagae</i>) to Cyprus (Amphibia: Ranidae)\n",
      "4. Two new frogs of the genus Platymantis (Anura: Ceratobatrachidae) from the Isabel Island group, Solomon Islands\n",
      "5. A new species of Sycorax Curtis (Diptera, Psychodidae, Sycoracinae) collected on harlequin frogs (Anura: Bufonidae, Atelopus) in the Ecuadorian Andes\n",
      "6. Two new fringe-limbed frogs of the genus Ecnomiohyla (Anura: Hylidae) from Panama\n",
      "7. Genetic evidence for human-mediated introduction of Anatolian water frogs (<i>Pelophylax</i> cf. <i>bedriagae</i>) to Cyprus (Amphibia: Ranidae)\n",
      "8. New species amongst Sri Lanka’s extinct shrub frogs (Amphibia: Rhacophoridae: Philautus)\n",
      "9. Genetic evidence for human-mediated introduction of Anatolian water frogs (<i>Pelophylax</i> cf. <i>bedriagae</i>) to Cyprus (Amphibia: Ranidae)\n",
      "10. Dispersal success of European tree frogs thanks to habitat connectivity measures: A genetic evaluation\n"
     ]
    },
    {
     "name": "stderr",
     "output_type": "stream",
     "text": [
      "/Users/erin/miniconda3/envs/share_tutorials/lib/python3.5/site-packages/requests/packages/urllib3/connectionpool.py:821: InsecureRequestWarning: Unverified HTTPS request is being made. Adding certificate verification is strongly advised. See: https://urllib3.readthedocs.org/en/latest/security.html\n",
      "  InsecureRequestWarning)\n"
     ]
    }
   ],
   "source": [
    "basic_query = {\n",
    "    \"query\": {\n",
    "        \"query_string\": {\n",
    "            \"query\": \"frogs\"\n",
    "        }\n",
    "    }\n",
    "}\n",
    "\n",
    "query_results = query_share(SHARE_API, basic_query)\n",
    "\n",
    "print_numbered_results(query_results)"
   ]
  },
  {
   "cell_type": "markdown",
   "metadata": {},
   "source": [
    "We can get more results either by changing the number of results returned, or by paginating through the results.\n",
    "\n",
    "First, we'll return 20 results by specifying the size in our query."
   ]
  },
  {
   "cell_type": "code",
   "execution_count": 4,
   "metadata": {
    "collapsed": false
   },
   "outputs": [
    {
     "name": "stderr",
     "output_type": "stream",
     "text": [
      "/Users/erin/miniconda3/envs/share_tutorials/lib/python3.5/site-packages/requests/packages/urllib3/connectionpool.py:821: InsecureRequestWarning: Unverified HTTPS request is being made. Adding certificate verification is strongly advised. See: https://urllib3.readthedocs.org/en/latest/security.html\n",
      "  InsecureRequestWarning)\n"
     ]
    },
    {
     "name": "stdout",
     "output_type": "stream",
     "text": [
      "There are 106 total results and 20 results on this page\n",
      "---------------\n",
      "1. Reproductive features of three maternal-caring species of <i>Leptodactylus</i> (Anura: Leptodactylidae) with a report on alloparental care in frogs\n",
      "2. New genus of diminutive microhylid frogs from Papua New Guinea\n",
      "3. Genetic evidence for human-mediated introduction of Anatolian water frogs (<i>Pelophylax</i> cf. <i>bedriagae</i>) to Cyprus (Amphibia: Ranidae)\n",
      "4. Two new frogs of the genus Platymantis (Anura: Ceratobatrachidae) from the Isabel Island group, Solomon Islands\n",
      "5. A new species of Sycorax Curtis (Diptera, Psychodidae, Sycoracinae) collected on harlequin frogs (Anura: Bufonidae, Atelopus) in the Ecuadorian Andes\n",
      "6. Two new fringe-limbed frogs of the genus Ecnomiohyla (Anura: Hylidae) from Panama\n",
      "7. Genetic evidence for human-mediated introduction of Anatolian water frogs (<i>Pelophylax</i> cf. <i>bedriagae</i>) to Cyprus (Amphibia: Ranidae)\n",
      "8. New species amongst Sri Lanka’s extinct shrub frogs (Amphibia: Rhacophoridae: Philautus)\n",
      "9. Genetic evidence for human-mediated introduction of Anatolian water frogs (<i>Pelophylax</i> cf. <i>bedriagae</i>) to Cyprus (Amphibia: Ranidae)\n",
      "10. Dispersal success of European tree frogs thanks to habitat connectivity measures: A genetic evaluation\n",
      "11. Genomic imprinting or mutation and interclonal selection in triploid hybrid frogs? A comment on Tunner.\n",
      "12. Dispersal rates and distances in adult water frogs, Rana lessonae, R. ridibunda  and their hybridogenetic associate R. esculenta\n",
      "13. Patterns of natural selection on size at metamorphosis in water frogs.\n",
      "14. The ecology of coexistence in two closely related species of frogs (rana)\n",
      "15. Species boundaries among barred river frogs, Mixophyes (Anura: Myobatrachidae) in north­eastern Australia, with descriptions of two new species\n",
      "16. Reproductive features of three maternal-caring species of <i>Leptodactylus</i> (Anura: Leptodactylidae) with a report on alloparental care in frogs\n",
      "17. Comparative larval morphology in Madagascan frogs of the genus Guibemantis (Amphibia: Mantellidae)\n",
      "18. Evolutionary history of Lost World frogs\n",
      "19. The evolution of colour in myobatrachid frogs\n",
      "20. A taxonomic revision of frogs of the genus Cryptobatrachus (Anura: Hemiphractidae)\n"
     ]
    }
   ],
   "source": [
    "basic_query = {\n",
    "    \"query\": {\n",
    "        \"query_string\": {\n",
    "            \"query\": \"frogs\"\n",
    "        }\n",
    "    },\n",
    "    \"size\": 20\n",
    "}\n",
    "\n",
    "query_results = query_share(SHARE_API, basic_query)\n",
    "\n",
    "print_numbered_results(query_results)"
   ]
  },
  {
   "cell_type": "markdown",
   "metadata": {},
   "source": [
    "We can also paginate through results by specifying the place to start in all of the results."
   ]
  },
  {
   "cell_type": "code",
   "execution_count": 5,
   "metadata": {
    "collapsed": false
   },
   "outputs": [
    {
     "name": "stderr",
     "output_type": "stream",
     "text": [
      "/Users/erin/miniconda3/envs/share_tutorials/lib/python3.5/site-packages/requests/packages/urllib3/connectionpool.py:821: InsecureRequestWarning: Unverified HTTPS request is being made. Adding certificate verification is strongly advised. See: https://urllib3.readthedocs.org/en/latest/security.html\n",
      "  InsecureRequestWarning)\n"
     ]
    },
    {
     "name": "stdout",
     "output_type": "stream",
     "text": [
      "There are 106 total results and 10 results on this page\n",
      "---------------\n",
      "1. Reproductive features of three maternal-caring species of <i>Leptodactylus</i> (Anura: Leptodactylidae) with a report on alloparental care in frogs\n",
      "2. New genus of diminutive microhylid frogs from Papua New Guinea\n",
      "3. Genetic evidence for human-mediated introduction of Anatolian water frogs (<i>Pelophylax</i> cf. <i>bedriagae</i>) to Cyprus (Amphibia: Ranidae)\n",
      "4. Two new frogs of the genus Platymantis (Anura: Ceratobatrachidae) from the Isabel Island group, Solomon Islands\n",
      "5. A new species of Sycorax Curtis (Diptera, Psychodidae, Sycoracinae) collected on harlequin frogs (Anura: Bufonidae, Atelopus) in the Ecuadorian Andes\n",
      "6. Two new fringe-limbed frogs of the genus Ecnomiohyla (Anura: Hylidae) from Panama\n",
      "7. Genetic evidence for human-mediated introduction of Anatolian water frogs (<i>Pelophylax</i> cf. <i>bedriagae</i>) to Cyprus (Amphibia: Ranidae)\n",
      "8. New species amongst Sri Lanka’s extinct shrub frogs (Amphibia: Rhacophoridae: Philautus)\n",
      "9. Genetic evidence for human-mediated introduction of Anatolian water frogs (<i>Pelophylax</i> cf. <i>bedriagae</i>) to Cyprus (Amphibia: Ranidae)\n",
      "10. Dispersal success of European tree frogs thanks to habitat connectivity measures: A genetic evaluation\n",
      "------------------------------------------\n",
      "*** Making another query for the next page ***\n",
      "*** These next titles will be different! ***\n",
      "------------------------------------------\n"
     ]
    },
    {
     "name": "stderr",
     "output_type": "stream",
     "text": [
      "/Users/erin/miniconda3/envs/share_tutorials/lib/python3.5/site-packages/requests/packages/urllib3/connectionpool.py:821: InsecureRequestWarning: Unverified HTTPS request is being made. Adding certificate verification is strongly advised. See: https://urllib3.readthedocs.org/en/latest/security.html\n",
      "  InsecureRequestWarning)\n"
     ]
    },
    {
     "name": "stdout",
     "output_type": "stream",
     "text": [
      "There are 106 total results and 10 results on this page\n",
      "---------------\n",
      "1. Genomic imprinting or mutation and interclonal selection in triploid hybrid frogs? A comment on Tunner.\n",
      "2. Dispersal rates and distances in adult water frogs, Rana lessonae, R. ridibunda  and their hybridogenetic associate R. esculenta\n",
      "3. Patterns of natural selection on size at metamorphosis in water frogs.\n",
      "4. The ecology of coexistence in two closely related species of frogs (rana)\n",
      "5. Species boundaries among barred river frogs, Mixophyes (Anura: Myobatrachidae) in north­eastern Australia, with descriptions of two new species\n",
      "6. Reproductive features of three maternal-caring species of <i>Leptodactylus</i> (Anura: Leptodactylidae) with a report on alloparental care in frogs\n",
      "7. Comparative larval morphology in Madagascan frogs of the genus Guibemantis (Amphibia: Mantellidae)\n",
      "8. Evolutionary history of Lost World frogs\n",
      "9. The evolution of colour in myobatrachid frogs\n",
      "10. A taxonomic revision of frogs of the genus Cryptobatrachus (Anura: Hemiphractidae)\n"
     ]
    }
   ],
   "source": [
    "basic_query = {\n",
    "    \"query\": {\n",
    "        \"query_string\": {\n",
    "            \"query\": \"frogs\"\n",
    "        }\n",
    "    }\n",
    "}\n",
    "\n",
    "query_results = query_share(SHARE_API, basic_query)\n",
    "print_numbered_results(query_results)\n",
    "\n",
    "print('------------------------------------------')\n",
    "print('*** Making another query for the next page ***')\n",
    "print('*** These next titles will be different! ***')\n",
    "print('------------------------------------------')\n",
    "\n",
    "basic_query['from'] = 10  # Add the 'from' parameter to the query to pick up at the next page of results\n",
    "\n",
    "query_results = query_share(SHARE_API, basic_query)\n",
    "print_numbered_results(query_results)"
   ]
  },
  {
   "cell_type": "markdown",
   "metadata": {},
   "source": [
    "### Pagination with sharepa\n",
    "\n",
    "You can also use sharepa to paginate through all of the results in your query, and to access slices of your query at any time. The ShareSearch object returns a generator that you can use to access all results, using slices.\n",
    "\n",
    "First, we'll redefine our helper function for nicer printing with data returned from sharepa."
   ]
  },
  {
   "cell_type": "code",
   "execution_count": 6,
   "metadata": {
    "collapsed": true
   },
   "outputs": [],
   "source": [
    "def print_numbered_sharepa_results(search_obj):\n",
    "    results = search_obj.execute()\n",
    "    print(\n",
    "        'There are {} total results and {} results on this page'.format(\n",
    "            search_obj.count(),\n",
    "            len(results.hits)\n",
    "        )\n",
    "    )\n",
    "    print('---------------')    \n",
    "    for result in enumerate(results.hits):\n",
    "        print('{}. {}'.format(result[0] + 1, result[1]['title']))"
   ]
  },
  {
   "cell_type": "code",
   "execution_count": 7,
   "metadata": {
    "collapsed": false
   },
   "outputs": [],
   "source": [
    "from sharepa import ShareSearch\n",
    "from sharepa.helpers import pretty_print\n",
    "\n",
    "frogs_search = ShareSearch()\n",
    "\n",
    "frogs_search = frogs_search.query(\n",
    "    'query_string',\n",
    "    query='frogs'\n",
    ")"
   ]
  },
  {
   "cell_type": "code",
   "execution_count": 8,
   "metadata": {
    "collapsed": false
   },
   "outputs": [
    {
     "name": "stdout",
     "output_type": "stream",
     "text": [
      "There are 106 total results and 10 results on this page\n",
      "---------------\n",
      "1. Reproductive features of three maternal-caring species of <i>Leptodactylus</i> (Anura: Leptodactylidae) with a report on alloparental care in frogs\n",
      "2. New genus of diminutive microhylid frogs from Papua New Guinea\n",
      "3. Genetic evidence for human-mediated introduction of Anatolian water frogs (<i>Pelophylax</i> cf. <i>bedriagae</i>) to Cyprus (Amphibia: Ranidae)\n",
      "4. Two new frogs of the genus Platymantis (Anura: Ceratobatrachidae) from the Isabel Island group, Solomon Islands\n",
      "5. A new species of Sycorax Curtis (Diptera, Psychodidae, Sycoracinae) collected on harlequin frogs (Anura: Bufonidae, Atelopus) in the Ecuadorian Andes\n",
      "6. Two new fringe-limbed frogs of the genus Ecnomiohyla (Anura: Hylidae) from Panama\n",
      "7. Genetic evidence for human-mediated introduction of Anatolian water frogs (<i>Pelophylax</i> cf. <i>bedriagae</i>) to Cyprus (Amphibia: Ranidae)\n",
      "8. New species amongst Sri Lanka’s extinct shrub frogs (Amphibia: Rhacophoridae: Philautus)\n",
      "9. Genetic evidence for human-mediated introduction of Anatolian water frogs (<i>Pelophylax</i> cf. <i>bedriagae</i>) to Cyprus (Amphibia: Ranidae)\n",
      "10. Dispersal success of European tree frogs thanks to habitat connectivity measures: A genetic evaluation\n"
     ]
    }
   ],
   "source": [
    "print_numbered_sharepa_results(frogs_search)"
   ]
  },
  {
   "cell_type": "code",
   "execution_count": 9,
   "metadata": {
    "collapsed": false
   },
   "outputs": [
    {
     "name": "stdout",
     "output_type": "stream",
     "text": [
      "There are 106 total results and 10 results on this page\n",
      "---------------\n",
      "1. Genomic imprinting or mutation and interclonal selection in triploid hybrid frogs? A comment on Tunner.\n",
      "2. Dispersal rates and distances in adult water frogs, Rana lessonae, R. ridibunda  and their hybridogenetic associate R. esculenta\n",
      "3. Patterns of natural selection on size at metamorphosis in water frogs.\n",
      "4. The ecology of coexistence in two closely related species of frogs (rana)\n",
      "5. Species boundaries among barred river frogs, Mixophyes (Anura: Myobatrachidae) in north­eastern Australia, with descriptions of two new species\n",
      "6. Reproductive features of three maternal-caring species of <i>Leptodactylus</i> (Anura: Leptodactylidae) with a report on alloparental care in frogs\n",
      "7. Comparative larval morphology in Madagascan frogs of the genus Guibemantis (Amphibia: Mantellidae)\n",
      "8. Evolutionary history of Lost World frogs\n",
      "9. The evolution of colour in myobatrachid frogs\n",
      "10. A taxonomic revision of frogs of the genus Cryptobatrachus (Anura: Hemiphractidae)\n"
     ]
    }
   ],
   "source": [
    "print_numbered_sharepa_results(frogs_search[10:20])"
   ]
  },
  {
   "cell_type": "markdown",
   "metadata": {},
   "source": [
    "### Aggregations\n",
    "\n",
    "While searching for individual results is useful, sharepa also lets you make aggregation queries that give you results across the entirety of the SHARE dataset at once. This is useful if you're curious about the completeness of data sets.\n",
    "\n",
    "For example, we can find the number of documents per source that are missing tags."
   ]
  },
  {
   "cell_type": "code",
   "execution_count": 10,
   "metadata": {
    "collapsed": false
   },
   "outputs": [],
   "source": [
    "missing_tags_aggregation = {\n",
    "    \"query\": {\n",
    "        \"bool\": {\n",
    "            \"must_not\": {\n",
    "                \"exists\": {\n",
    "                    \"field\": \"tags\"\n",
    "                  }\n",
    "            }\n",
    "        }\n",
    "    },\n",
    "    \"aggregations\": {\n",
    "        \"sources\": {\n",
    "            \"terms\": {\n",
    "                \"field\": \"sources\", # A field where the SHARE source is stored                \n",
    "                \"min_doc_count\": 0, \n",
    "                \"size\": 0  # Will return all sources, regardless if there are results\n",
    "            }\n",
    "        }\n",
    "    }\n",
    "}"
   ]
  },
  {
   "cell_type": "code",
   "execution_count": 11,
   "metadata": {
    "collapsed": false
   },
   "outputs": [
    {
     "name": "stdout",
     "output_type": "stream",
     "text": [
      "providers.org.crossref has 10948 documents without tags\n",
      "providers.gov.scitech has 648 documents without tags\n",
      "providers.com.figshare has 1 documents without tags\n",
      "providers.au.uow has 0 documents without tags\n",
      "providers.be.ghent has 0 documents without tags\n",
      "providers.ca.umontreal has 0 documents without tags\n",
      "providers.com.nature has 0 documents without tags\n",
      "providers.edu.asu has 0 documents without tags\n",
      "providers.edu.boise_state has 0 documents without tags\n",
      "providers.edu.calhoun has 0 documents without tags\n",
      "providers.gov.nist has 0 documents without tags\n",
      "providers.org.arxiv.oai has 0 documents without tags\n",
      "providers.org.datacite has 0 documents without tags\n"
     ]
    },
    {
     "name": "stderr",
     "output_type": "stream",
     "text": [
      "/Users/erin/miniconda3/envs/share_tutorials/lib/python3.5/site-packages/requests/packages/urllib3/connectionpool.py:821: InsecureRequestWarning: Unverified HTTPS request is being made. Adding certificate verification is strongly advised. See: https://urllib3.readthedocs.org/en/latest/security.html\n",
      "  InsecureRequestWarning)\n"
     ]
    }
   ],
   "source": [
    "results_without_tags = query_share(SHARE_API, missing_tags_aggregation)\n",
    "\n",
    "missing_tags_counts = results_without_tags['aggregations']['sources']['buckets']\n",
    "\n",
    "for source in missing_tags_counts:\n",
    "    print('{} has {} documents without tags'.format(source['key'], source['doc_count'], ))"
   ]
  },
  {
   "cell_type": "markdown",
   "metadata": {},
   "source": [
    "This information isn't terribly useful if we don't also know how many documents are in each source.\n",
    "\n",
    "Let's get that information as well, along stats for what percentage of documents from each source are missing titles. \n",
    "\n",
    "We'll do this with an elasticsearch \"sigificant terms\" aggregation. We're only interested in results that have 1 document or more, meaning all documents from the other sources have titles."
   ]
  },
  {
   "cell_type": "code",
   "execution_count": 12,
   "metadata": {
    "collapsed": true
   },
   "outputs": [],
   "source": [
    "no_tags_query = {\n",
    "    \"query\": {\n",
    "        \"bool\": {\n",
    "            \"must_not\": {\n",
    "                \"exists\": {\n",
    "                    \"field\": \"tags\"\n",
    "                  }\n",
    "            }\n",
    "        }\n",
    "    },\n",
    "    \"aggs\": {\n",
    "        \"sources\":{\n",
    "            \"significant_terms\":{\n",
    "                \"field\": \"sources\", # A field where the SHARE source is stored                \n",
    "                \"min_doc_count\": 0, \n",
    "                \"size\": 0,  # Will return all sources, regardless if there are results\n",
    "                \"percentage\": {} # This will make the \"score\" parameter a percentage\n",
    "            }\n",
    "        }\n",
    "    }\n",
    "}"
   ]
  },
  {
   "cell_type": "code",
   "execution_count": 13,
   "metadata": {
    "collapsed": false
   },
   "outputs": [
    {
     "name": "stderr",
     "output_type": "stream",
     "text": [
      "/Users/erin/miniconda3/envs/share_tutorials/lib/python3.5/site-packages/requests/packages/urllib3/connectionpool.py:821: InsecureRequestWarning: Unverified HTTPS request is being made. Adding certificate verification is strongly advised. See: https://urllib3.readthedocs.org/en/latest/security.html\n",
      "  InsecureRequestWarning)\n"
     ]
    }
   ],
   "source": [
    "docs_with_no_tags_results = query_share(SHARE_API, no_tags_query)\n",
    "docs_with_no_tags = docs_with_no_tags_results['aggregations']['sources']['buckets']"
   ]
  },
  {
   "cell_type": "code",
   "execution_count": 14,
   "metadata": {
    "collapsed": false
   },
   "outputs": [
    {
     "name": "stdout",
     "output_type": "stream",
     "text": [
      "100.00% (or 1/1) of documents from providers.com.figshare have no tags\n",
      "99.87% (or 10948/10962) of documents from providers.org.crossref have no tags\n",
      "44.78% (or 648/1447) of documents from providers.gov.scitech have no tags\n"
     ]
    }
   ],
   "source": [
    "for source in docs_with_no_tags:\n",
    "    print(\n",
    "        '{}% (or {}/{}) of documents from {} have no tags'.format(\n",
    "            format(source['score']*100, '.2f'),\n",
    "            source['doc_count'],\n",
    "            source['bg_count'],\n",
    "            source['key']\n",
    "        )\n",
    "    )"
   ]
  },
  {
   "cell_type": "markdown",
   "metadata": {},
   "source": [
    "#### Aggregations with sharepa\n",
    "\n",
    "You can also use sharepa to do aggregations.\n",
    "\n",
    "Let's make a sharepa search object that will give us the number of documents per sourcethat don't have language specified."
   ]
  },
  {
   "cell_type": "code",
   "execution_count": 15,
   "metadata": {
    "collapsed": false
   },
   "outputs": [
    {
     "data": {
      "text/plain": [
       "SignificantTerms(field='sources', min_doc_count=1, percentage={}, size=0)"
      ]
     },
     "execution_count": 15,
     "metadata": {},
     "output_type": "execute_result"
    }
   ],
   "source": [
    "no_language_search = ShareSearch()\n",
    "\n",
    "no_language_search = no_language_search.query(\n",
    "    'bool',\n",
    "    must_not={\"exists\": {\"field\": \"language\"}}\n",
    ")\n",
    "\n",
    "no_language_search.aggs.bucket(\n",
    "    'sources',  # Every aggregation needs a name\n",
    "    'significant_terms',  # There are many kinds of aggregations\n",
    "    field='sources',  # We store the source of a document in its type, so this will aggregate by source\n",
    "    min_doc_count=1,\n",
    "    percentage={},\n",
    "    size=0\n",
    ")"
   ]
  },
  {
   "cell_type": "markdown",
   "metadata": {},
   "source": [
    "We can see which query is actually going to be sent to elasticsearch by printing out the query. This is very similar to the queries we were defining by hand up above."
   ]
  },
  {
   "cell_type": "code",
   "execution_count": 16,
   "metadata": {
    "collapsed": false,
    "scrolled": true
   },
   "outputs": [
    {
     "name": "stdout",
     "output_type": "stream",
     "text": [
      "{\n",
      "    \"query\": {\n",
      "        \"bool\": {\n",
      "            \"must_not\": [\n",
      "                {\n",
      "                    \"exists\": {\n",
      "                        \"field\": \"language\"\n",
      "                    }\n",
      "                }\n",
      "            ]\n",
      "        }\n",
      "    },\n",
      "    \"aggs\": {\n",
      "        \"sources\": {\n",
      "            \"significant_terms\": {\n",
      "                \"percentage\": {},\n",
      "                \"field\": \"sources\",\n",
      "                \"size\": 0,\n",
      "                \"min_doc_count\": 1\n",
      "            }\n",
      "        }\n",
      "    }\n",
      "}\n"
     ]
    }
   ],
   "source": [
    "pretty_print(no_language_search.to_dict())"
   ]
  },
  {
   "cell_type": "code",
   "execution_count": 17,
   "metadata": {
    "collapsed": false
   },
   "outputs": [
    {
     "name": "stdout",
     "output_type": "stream",
     "text": [
      "100.00% of documents from providers.au.uow do not have language\n",
      "100.00% of documents from providers.com.figshare do not have language\n",
      "100.00% of documents from providers.gov.nist do not have language\n",
      "100.00% of documents from providers.edu.boise_state do not have language\n",
      "99.87% of documents from providers.org.crossref do not have language\n",
      "99.64% of documents from providers.org.arxiv.oai do not have language\n",
      "94.03% of documents from providers.edu.asu do not have language\n",
      "76.32% of documents from providers.edu.calhoun do not have language\n",
      "56.66% of documents from providers.org.datacite do not have language\n",
      "41.10% of documents from providers.be.ghent do not have language\n",
      "20.00% of documents from providers.ca.umontreal do not have language\n",
      "0.43% of documents from providers.gov.scitech do not have language\n"
     ]
    }
   ],
   "source": [
    "aggregated_results = no_language_search.execute()\n",
    "\n",
    "for source in aggregated_results.aggregations['sources']['buckets']:\n",
    "    print(\n",
    "        '{}% of documents from {} do not have language'.format(\n",
    "            format(source['score']*100, '.2f'),\n",
    "            source['key'] \n",
    "        )\n",
    "    )"
   ]
  },
  {
   "cell_type": "markdown",
   "metadata": {},
   "source": [
    "### Top tags \n",
    "\n",
    "Let's do an elasticsearch query to find out what the most used tags are used in the dataset across all sources."
   ]
  },
  {
   "cell_type": "code",
   "execution_count": 18,
   "metadata": {
    "collapsed": false
   },
   "outputs": [
    {
     "name": "stdout",
     "output_type": "stream",
     "text": [
      "[\n",
      "    {\n",
      "        \"key\": \"dataset\",\n",
      "        \"doc_count\": 403057\n",
      "    },\n",
      "    {\n",
      "        \"key\": \"text\",\n",
      "        \"doc_count\": 358318\n",
      "    },\n",
      "    {\n",
      "        \"key\": \"ethz\",\n",
      "        \"doc_count\": 310978\n",
      "    },\n",
      "    {\n",
      "        \"key\": \"cdl\",\n",
      "        \"doc_count\": 285391\n",
      "    },\n",
      "    {\n",
      "        \"key\": \"tib\",\n",
      "        \"doc_count\": 257715\n",
      "    },\n",
      "    {\n",
      "        \"key\": \"image\",\n",
      "        \"doc_count\": 252736\n",
      "    },\n",
      "    {\n",
      "        \"key\": \"application\",\n",
      "        \"doc_count\": 212269\n",
      "    },\n",
      "    {\n",
      "        \"key\": \"cdl.digsci\",\n",
      "        \"doc_count\": 164037\n",
      "    },\n",
      "    {\n",
      "        \"key\": \"pdf\",\n",
      "        \"doc_count\": 152197\n",
      "    },\n",
      "    {\n",
      "        \"key\": \"bild\",\n",
      "        \"doc_count\": 130861\n",
      "    }\n",
      "]\n"
     ]
    }
   ],
   "source": [
    "top_tag_search = ShareSearch()\n",
    "\n",
    "top_tag_search.aggs.bucket(\n",
    "    'tagsTermFilter',  # Every aggregation needs a name\n",
    "    'terms',  # There are many kinds of aggregations\n",
    "    field='tags',  # We store the source of a document in its type, so this will aggregate by source\n",
    "    min_doc_count=1,\n",
    "    exclude= \"of|and|or\",\n",
    "    size=10\n",
    ")\n",
    "\n",
    "# pretty_print(top_tag_search.to_dict())\n",
    "\n",
    "top_tag_results_executed = top_tag_search.execute()\n",
    "top_tag_results = top_tag_results_executed.aggregations.tagsTermFilter.to_dict()['buckets']\n",
    "\n",
    "pretty_print(top_tag_results)"
   ]
  },
  {
   "cell_type": "markdown",
   "metadata": {},
   "source": [
    "## Basic Plotting\n",
    "\n",
    "Sharepa has some basic functions to get you started making plots using matplotlib and pandas.\n",
    "\n",
    "### Creating a dataframe from sharepa data\n",
    "\n",
    "Raw sharepa data is in the same format as elasticsearch results, represented as a nested structure. To convert the data into a format that pandas can recognize, we have to convert it into a dataframe.\n",
    "\n",
    "Let's take our top tags aggregation, make it into a pandas data frame, and plot a bar graph. Then, we'll plot the results."
   ]
  },
  {
   "cell_type": "code",
   "execution_count": 19,
   "metadata": {
    "collapsed": false
   },
   "outputs": [
    {
     "data": {
      "text/html": [
       "<div>\n",
       "<table border=\"1\" class=\"dataframe\">\n",
       "  <thead>\n",
       "    <tr style=\"text-align: right;\">\n",
       "      <th></th>\n",
       "      <th>doc_count</th>\n",
       "      <th>key</th>\n",
       "    </tr>\n",
       "  </thead>\n",
       "  <tbody>\n",
       "    <tr>\n",
       "      <th>0</th>\n",
       "      <td>403057</td>\n",
       "      <td>dataset</td>\n",
       "    </tr>\n",
       "    <tr>\n",
       "      <th>1</th>\n",
       "      <td>358318</td>\n",
       "      <td>text</td>\n",
       "    </tr>\n",
       "    <tr>\n",
       "      <th>2</th>\n",
       "      <td>310978</td>\n",
       "      <td>ethz</td>\n",
       "    </tr>\n",
       "    <tr>\n",
       "      <th>3</th>\n",
       "      <td>285391</td>\n",
       "      <td>cdl</td>\n",
       "    </tr>\n",
       "    <tr>\n",
       "      <th>4</th>\n",
       "      <td>257715</td>\n",
       "      <td>tib</td>\n",
       "    </tr>\n",
       "    <tr>\n",
       "      <th>5</th>\n",
       "      <td>252736</td>\n",
       "      <td>image</td>\n",
       "    </tr>\n",
       "    <tr>\n",
       "      <th>6</th>\n",
       "      <td>212269</td>\n",
       "      <td>application</td>\n",
       "    </tr>\n",
       "    <tr>\n",
       "      <th>7</th>\n",
       "      <td>164037</td>\n",
       "      <td>cdl.digsci</td>\n",
       "    </tr>\n",
       "    <tr>\n",
       "      <th>8</th>\n",
       "      <td>152197</td>\n",
       "      <td>pdf</td>\n",
       "    </tr>\n",
       "    <tr>\n",
       "      <th>9</th>\n",
       "      <td>130861</td>\n",
       "      <td>bild</td>\n",
       "    </tr>\n",
       "  </tbody>\n",
       "</table>\n",
       "</div>"
      ],
      "text/plain": [
       "   doc_count          key\n",
       "0     403057      dataset\n",
       "1     358318         text\n",
       "2     310978         ethz\n",
       "3     285391          cdl\n",
       "4     257715          tib\n",
       "5     252736        image\n",
       "6     212269  application\n",
       "7     164037   cdl.digsci\n",
       "8     152197          pdf\n",
       "9     130861         bild"
      ]
     },
     "execution_count": 19,
     "metadata": {},
     "output_type": "execute_result"
    }
   ],
   "source": [
    "import pandas as pd\n",
    "\n",
    "top_tags_dataframe = pd.DataFrame(top_tag_results)\n",
    "top_tags_dataframe"
   ]
  },
  {
   "cell_type": "code",
   "execution_count": 20,
   "metadata": {
    "collapsed": false
   },
   "outputs": [
    {
     "data": {
      "image/png": "[encoded data removed]",
      "text/plain": [
       "<matplotlib.figure.Figure at 0x10dba2e80>"
      ]
     },
     "metadata": {},
     "output_type": "display_data"
    }
   ],
   "source": [
    "from matplotlib import pyplot\n",
    "%matplotlib inline\n",
    "\n",
    "top_tags_dataframe.plot(kind='bar', x='key', y='doc_count')\n",
    "pyplot.show()"
   ]
  },
  {
   "cell_type": "markdown",
   "metadata": {},
   "source": [
    "### Complex Queries and Dataframes\n",
    "\n",
    "Let's plot the number of document that each source has. We'll limit it to the top 30 sources to make sure that the graph is readable. Here we'll use the sharepa helper function bucket_to_dataframe()"
   ]
  },
  {
   "cell_type": "code",
   "execution_count": 21,
   "metadata": {
    "collapsed": false
   },
   "outputs": [
    {
     "name": "stderr",
     "output_type": "stream",
     "text": [
      "/Users/erin/miniconda3/envs/share_tutorials/lib/python3.5/site-packages/ipykernel/__main__.py:22: FutureWarning: sort(columns=....) is deprecated, use sort_values(by=.....)\n"
     ]
    },
    {
     "data": {
      "text/plain": [
       "<matplotlib.axes._subplots.AxesSubplot at 0x10de66cc0>"
      ]
     },
     "execution_count": 21,
     "metadata": {},
     "output_type": "execute_result"
    },
    {
     "data": {
      "image/png": "[encoded data removed]",
      "text/plain": [
       "<matplotlib.figure.Figure at 0x10de56780>"
      ]
     },
     "metadata": {},
     "output_type": "display_data"
    }
   ],
   "source": [
    "from sharepa import bucket_to_dataframe\n",
    "\n",
    "all_results = ShareSearch()\n",
    "\n",
    "all_results = all_results.query(\n",
    "    'query_string', # Type of query, will accept a lucene query string\n",
    "    query='*', # This lucene query string will find all documents that don't have tags\n",
    "    analyze_wildcard=True  # This will make elasticsearch pay attention to the asterisk (which matches anything)\n",
    ")\n",
    "\n",
    "all_results.aggs.bucket(\n",
    "    'sources',  # Every aggregation needs a name\n",
    "    'terms',  # There are many kinds of aggregations, terms is a pretty useful one though\n",
    "    field='sources',  # We store the source of a document in its type, so this will aggregate by source\n",
    "    size=0,  # These are just to make sure we get numbers for all the sources, to make it easier to combine graphs\n",
    "    min_doc_count=0\n",
    ")\n",
    "\n",
    "all_results = all_results.execute()\n",
    "\n",
    "all_results_frame = bucket_to_dataframe('# documents by source', all_results.aggregations.sources.buckets)\n",
    "all_results_frame_sorted = all_results_frame.sort(ascending=False,  columns='# documents by source')\n",
    "all_results_frame_sorted[:30].plot(kind='bar')"
   ]
  },
  {
   "cell_type": "markdown",
   "metadata": {},
   "source": [
    "We can choose different types of plots to generate. Here, we'll make a pie chart of the data sources with the top 10 most results."
   ]
  },
  {
   "cell_type": "code",
   "execution_count": 22,
   "metadata": {
    "collapsed": false
   },
   "outputs": [
    {
     "data": {
      "text/plain": [
       "<matplotlib.axes._subplots.AxesSubplot at 0x10de66c18>"
      ]
     },
     "execution_count": 22,
     "metadata": {},
     "output_type": "execute_result"
    },
    {
     "data": {
      "image/png": "[encoded data removed]",
      "text/plain": [
       "<matplotlib.figure.Figure at 0x10d806b00>"
      ]
     },
     "metadata": {},
     "output_type": "display_data"
    }
   ],
   "source": [
    "all_results_frame_sorted[:10].plot(kind='pie', y=\"# documents by source\", legend=False)"
   ]
  },
  {
   "cell_type": "code",
   "execution_count": null,
   "metadata": {
    "collapsed": true
   },
   "outputs": [],
   "source": []
  }
 ],
 "metadata": {
  "kernelspec": {
   "display_name": "Python 3",
   "language": "python",
   "name": "python3"
  },
  "language_info": {
   "codemirror_mode": {
    "name": "ipython",
    "version": 3
   },
   "file_extension": ".py",
   "mimetype": "text/x-python",
   "name": "python",
   "nbconvert_exporter": "python",
   "pygments_lexer": "ipython3",
   "version": "3.5.2"
  }
 },
 "nbformat": 4,
 "nbformat_minor": 0
}
